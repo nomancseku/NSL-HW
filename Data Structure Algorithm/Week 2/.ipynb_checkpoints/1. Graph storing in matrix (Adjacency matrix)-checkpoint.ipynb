{
 "cells": [
  {
   "cell_type": "code",
   "execution_count": 1,
   "metadata": {},
   "outputs": [
    {
     "name": "stdout",
     "output_type": "stream",
     "text": [
      "3\n",
      "0\n",
      "5\n",
      "3\n",
      "5\n",
      "0\n",
      "8\n",
      "3\n",
      "8\n",
      "0\n",
      "0 5 3 \n",
      "5 0 8 \n",
      "3 8 0 \n"
     ]
    }
   ],
   "source": [
    "N = None\n",
    "N = int(input())\n",
    "matrix = []\n",
    "\n",
    "# taking input to matrix\n",
    "for i in range(N):\n",
    "    a = []\n",
    "    for j in range(N):\n",
    "        a.append(int(input()))\n",
    "    matrix.append(a)\n",
    "    \n",
    "# For printing the matrix \n",
    "for i in range(N):\n",
    "    for j in range(N): \n",
    "        print(matrix[i][j], end = \" \") \n",
    "    print()"
   ]
  },
  {
   "cell_type": "code",
   "execution_count": 7,
   "metadata": {},
   "outputs": [
    {
     "name": "stdout",
     "output_type": "stream",
     "text": [
      "3\n",
      "3\n",
      "None None None \n",
      "None None None \n",
      "None None None \n",
      "1 2 5\n",
      "2 3 8\n",
      "1 3 3\n",
      "None 5 3 \n",
      "None None 8 \n",
      "None None None \n"
     ]
    }
   ],
   "source": [
    "Node = None\n",
    "Edge = None\n",
    "matrix = []\n",
    "Node = int(input())\n",
    "Edge = int(input())\n",
    "\n",
    "# initializing matrix\n",
    "for i in range(Node):\n",
    "    a = []\n",
    "    for j in range(Node):\n",
    "        a.append(None)\n",
    "    matrix.append(a)\n",
    "# printing after initializing\n",
    "for i in range(Node):\n",
    "    for j in range(Node): \n",
    "        print(matrix[i][j], end = \" \") \n",
    "    print()\n",
    "    \n",
    "# taking input \n",
    "for i in range(Edge):\n",
    "    inp = list(map(int, input().split(' ')))\n",
    "    # inp[0] -- n1\n",
    "    # inp[1] -- n2\n",
    "    # inp[2] -- cost\n",
    "    matrix[inp[0]-1][inp[1]-1] = inp[2]\n",
    "    \n",
    "# printing after assignment\n",
    "for i in range(Node):\n",
    "    for j in range(Node): \n",
    "        print(matrix[i][j], end = \" \") \n",
    "    print()\n",
    "    "
   ]
  },
  {
   "cell_type": "raw",
   "metadata": {},
   "source": [
    "Advantages of adjacency matrix\n",
    "1. easier to know cost of any particular edge (O(1))\n",
    "2. \n",
    "\n",
    "Disadvantages of adjacency matrix\n",
    "1. not memory efficient / high memory complexity\n",
    "2. high time complexity"
   ]
  },
  {
   "cell_type": "code",
   "execution_count": null,
   "metadata": {},
   "outputs": [],
   "source": []
  }
 ],
 "metadata": {
  "kernelspec": {
   "display_name": "Python 3",
   "language": "python",
   "name": "python3"
  },
  "language_info": {
   "codemirror_mode": {
    "name": "ipython",
    "version": 3
   },
   "file_extension": ".py",
   "mimetype": "text/x-python",
   "name": "python",
   "nbconvert_exporter": "python",
   "pygments_lexer": "ipython3",
   "version": "3.8.5"
  }
 },
 "nbformat": 4,
 "nbformat_minor": 4
}
