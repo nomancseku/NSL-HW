{
 "cells": [
  {
   "cell_type": "code",
   "execution_count": 2,
   "metadata": {},
   "outputs": [
    {
     "data": {
      "text/plain": [
       "'\\nBFS works only with unweighted graph.\\nBFS can generate a tree.\\nComplexity: O(V+E) where, V = vertex, E = edge\\n'"
      ]
     },
     "execution_count": 2,
     "metadata": {},
     "output_type": "execute_result"
    }
   ],
   "source": [
    "\"\"\"\n",
    "BFS works only with unweighted graph.\n",
    "BFS can generate a tree.\n",
    "Complexity: O(V+E) where, V = vertex, E = edge\n",
    "\n",
    "The Algorithm\n",
    "1. Pick any node, visit the adjacent unvisited vertex, mark it as visited, display it, and insert it in a queue.\n",
    "2. If there are no remaining adjacent vertices left, remove the first vertex from the queue.\n",
    "3. Repeat step 1 and step 2 until the queue is empty or the desired node is found.\n",
    "\"\"\"\n",
    "\n",
    "graph = {\n",
    "  'A' : ['B','C'],\n",
    "  'B' : ['D', 'E'],\n",
    "  'C' : ['F'],\n",
    "  'D' : [],\n",
    "  'E' : ['F'],\n",
    "  'F' : []\n",
    "}\n",
    "\n",
    "visited = []   # List to keep track of visited nodes.\n",
    "queue = []     # Initialize a queue\n"
   ]
  },
  {
   "cell_type": "code",
   "execution_count": null,
   "metadata": {},
   "outputs": [],
   "source": []
  }
 ],
 "metadata": {
  "kernelspec": {
   "display_name": "Python 3",
   "language": "python",
   "name": "python3"
  },
  "language_info": {
   "codemirror_mode": {
    "name": "ipython",
    "version": 3
   },
   "file_extension": ".py",
   "mimetype": "text/x-python",
   "name": "python",
   "nbconvert_exporter": "python",
   "pygments_lexer": "ipython3",
   "version": "3.8.5"
  }
 },
 "nbformat": 4,
 "nbformat_minor": 4
}
