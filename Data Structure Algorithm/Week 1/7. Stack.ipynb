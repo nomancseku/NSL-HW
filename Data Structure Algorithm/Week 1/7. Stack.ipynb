{
 "cells": [
  {
   "cell_type": "code",
   "execution_count": 8,
   "metadata": {},
   "outputs": [],
   "source": [
    "\"\"\"\n",
    "Implementation of Stack\n",
    "\"\"\"\n",
    "\n",
    "class Stack:\n",
    "    def __init__(self, max_size):                     #initialize a stack of max_size\n",
    "        self.top_pointer = -1                         #Keep track of top element using this\n",
    "        self.stack = [None for x in range(max_size)]  #create a list of max_size\n",
    "    \n",
    "    def push(self, new_element):\n",
    "        self.top_pointer = self.top_pointer + 1       #Move the pointer\n",
    "        self.stack[self.top_pointer] = new_element    #Add the new_element to the top\n",
    "    \n",
    "    def pop(self):\n",
    "        last_element = self.stack[self.top_pointer]\n",
    "        self.top_pointer = self.top_pointer - 1       #Move the pointer\n",
    "        return last_element                           #Pop the last element\n",
    "    \n",
    "    def peek(self):\n",
    "        return self.stack[self.top_pointer]\n",
    "\n",
    "    def is_empty(self):\n",
    "        return self.top_pointer == -1"
   ]
  },
  {
   "cell_type": "code",
   "execution_count": 5,
   "metadata": {},
   "outputs": [
    {
     "name": "stdout",
     "output_type": "stream",
     "text": [
      "72\n"
     ]
    }
   ],
   "source": [
    "\"\"\"\n",
    "Uses of stack\n",
    "\"\"\"\n",
    "def func_3():\n",
    "\treturn 42\n",
    "\n",
    "def func_2():\n",
    "\tx=20\n",
    "\ty=func_3()\n",
    "\treturn x+y\n",
    "\n",
    "def func_1():\n",
    "\tx=10\n",
    "\ty=func_2()\n",
    "\treturn x+y\n",
    "\n",
    "print(func_1())"
   ]
  },
  {
   "cell_type": "code",
   "execution_count": 11,
   "metadata": {},
   "outputs": [
    {
     "name": "stdout",
     "output_type": "stream",
     "text": [
      "True\n",
      "False\n",
      "False\n"
     ]
    }
   ],
   "source": [
    "\"\"\"\n",
    "Bracket Balancing test using Stack\n",
    "\"\"\"\n",
    "def checkBalance(s):\n",
    "\tmystack=Stack(len(s))\n",
    "\tif s==\"\":\n",
    "\t\treturn True\n",
    "\tfor c in s:\n",
    "\t\tif c==\"(\" or c==\"{\": \n",
    "\t\t\tmystack.push(c) #push the opening bracket\n",
    "\t\telse:\n",
    "\t\t\tif mystack.is_empty(): \n",
    "\t\t\t\treturn False\n",
    "\t\t\tif c==\"}\" and mystack.peek()!=\"{\": #the brackets dont matches\n",
    "\t\t\t\treturn False\n",
    "\t\t\tif c==\")\" and mystack.peek()!=\"(\": #the brackets dont matches\n",
    "\t\t\t\treturn False\n",
    "\t\t\tmystack.pop() #pop matching brackets\n",
    "\t\n",
    "\tif mystack.is_empty(): #stack must be empty at the end\n",
    "\t\treturn True\n",
    "\treturn False\n",
    "\n",
    "print(checkBalance(\"(){}\"))\n",
    "print(checkBalance(\"()(((\"))\n",
    "print(checkBalance(\"()(}\"))"
   ]
  },
  {
   "cell_type": "code",
   "execution_count": null,
   "metadata": {},
   "outputs": [],
   "source": []
  }
 ],
 "metadata": {
  "kernelspec": {
   "display_name": "Python 3",
   "language": "python",
   "name": "python3"
  },
  "language_info": {
   "codemirror_mode": {
    "name": "ipython",
    "version": 3
   },
   "file_extension": ".py",
   "mimetype": "text/x-python",
   "name": "python",
   "nbconvert_exporter": "python",
   "pygments_lexer": "ipython3",
   "version": "3.8.5"
  }
 },
 "nbformat": 4,
 "nbformat_minor": 4
}
