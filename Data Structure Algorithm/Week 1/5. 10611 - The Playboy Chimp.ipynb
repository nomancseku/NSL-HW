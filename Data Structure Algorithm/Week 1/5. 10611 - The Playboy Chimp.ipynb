{
 "cells": [
  {
   "cell_type": "code",
   "execution_count": 6,
   "metadata": {},
   "outputs": [
    {
     "name": "stdout",
     "output_type": "stream",
     "text": [
      "3\n",
      "1 2 3\n",
      "4\n",
      "3 5 6 7\n",
      "[1, 2, 3]\n",
      "[3, 5, 6, 7]\n"
     ]
    }
   ],
   "source": [
    "a = int(input())\n",
    "a1 = list(input().split(' '))\n",
    "for i in range(0, int(a)):\n",
    "    a1[i] = int(a1[i]) \n",
    "b = int(input())\n",
    "b1 = list(map(int, input().split(' ')))\n",
    "print(a1)\n",
    "print(b1)"
   ]
  },
  {
   "cell_type": "code",
   "execution_count": 10,
   "metadata": {},
   "outputs": [
    {
     "name": "stdout",
     "output_type": "stream",
     "text": [
      "4\n",
      "1 5 5 7\n",
      "1\n",
      "5\n",
      "1 7\n"
     ]
    }
   ],
   "source": [
    "def searchLowerBound(array, key):\n",
    "    begin=0\n",
    "    end=len(array)-1\n",
    "    index=-1\n",
    "    while begin<=end:\n",
    "        mid=(begin+end)//2\n",
    "        if key == array[mid]: \n",
    "            index=mid\n",
    "            end=mid-1\n",
    "        elif key > array[mid]: begin=mid+1\n",
    "        elif key < array[mid]: end=mid-1\n",
    "    return begin - 1\n",
    "\n",
    "def searchUpperBound(array, key):\n",
    "    begin=0\n",
    "    end=len(array)-1\n",
    "    index=-1\n",
    "    while begin<=end:\n",
    "        mid=(begin+end)//2\n",
    "        if key == array[mid]: \n",
    "            index=mid\n",
    "            begin=mid+1\n",
    "        elif key > array[mid]: begin=mid+1\n",
    "        elif key < array[mid]: end=mid-1\n",
    "    return begin\n",
    "\n",
    "\n",
    "a = int(input())\n",
    "a1 = list(map(int, input().split()))\n",
    "b = int(input())\n",
    "b1 = list(map(int, input().split()))\n",
    "\n",
    "for i in b1:\n",
    "    lower = searchLowerBound(a1, i)\n",
    "    upper = searchUpperBound(a1, i)\n",
    "    if(lower < 0 and upper >= a):\n",
    "        print('X','X')\n",
    "    elif(lower < 0):\n",
    "        print('X', a1[upper])\n",
    "    elif(upper >= a):\n",
    "        print(a1[lower], 'X')\n",
    "    else:\n",
    "        print(a1[lower], a1[upper])\n",
    "\n"
   ]
  },
  {
   "cell_type": "code",
   "execution_count": null,
   "metadata": {},
   "outputs": [],
   "source": []
  }
 ],
 "metadata": {
  "kernelspec": {
   "display_name": "Python 3",
   "language": "python",
   "name": "python3"
  },
  "language_info": {
   "codemirror_mode": {
    "name": "ipython",
    "version": 3
   },
   "file_extension": ".py",
   "mimetype": "text/x-python",
   "name": "python",
   "nbconvert_exporter": "python",
   "pygments_lexer": "ipython3",
   "version": "3.8.5"
  }
 },
 "nbformat": 4,
 "nbformat_minor": 4
}
