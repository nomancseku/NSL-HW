{
 "cells": [
  {
   "cell_type": "code",
   "execution_count": 15,
   "metadata": {},
   "outputs": [],
   "source": [
    "def compress():\n",
    "    mymap = dict()\n",
    "    inp = [-102,1,134565589,134565589,-102,66666668,134565589,66666668,-102,1,-2]\n",
    "    assign = 0\n",
    "    compressed = []\n",
    "    c = 0\n",
    "    n = len(inp)\n",
    "    for i in range(n):\n",
    "        x = inp[i]\n",
    "        if x not in mymap.keys():\n",
    "            mymap[x] = assign\n",
    "            print('Mapping {0} with {1}'.format(x, assign))\n",
    "            assign = assign + 1\n",
    "        x = mymap[x]\n",
    "        compressed.append(x)\n",
    "    \n",
    "    print('Compressed array: ', end='')\n",
    "    for i in range(n):\n",
    "        print(compressed[i], end = ' ')\n",
    "    print()\n",
    "    pass\n"
   ]
  },
  {
   "cell_type": "code",
   "execution_count": 16,
   "metadata": {},
   "outputs": [
    {
     "name": "stdout",
     "output_type": "stream",
     "text": [
      "Mapping -102 with 0\n",
      "Mapping 1 with 1\n",
      "Mapping 134565589 with 2\n",
      "Mapping 66666668 with 3\n",
      "Mapping -2 with 4\n",
      "Compressed array: 0 1 2 2 0 3 2 3 0 1 4 \n"
     ]
    }
   ],
   "source": [
    "compress()"
   ]
  },
  {
   "cell_type": "code",
   "execution_count": null,
   "metadata": {},
   "outputs": [],
   "source": []
  }
 ],
 "metadata": {
  "kernelspec": {
   "display_name": "Python 3",
   "language": "python",
   "name": "python3"
  },
  "language_info": {
   "codemirror_mode": {
    "name": "ipython",
    "version": 3
   },
   "file_extension": ".py",
   "mimetype": "text/x-python",
   "name": "python",
   "nbconvert_exporter": "python",
   "pygments_lexer": "ipython3",
   "version": "3.8.5"
  }
 },
 "nbformat": 4,
 "nbformat_minor": 4
}
