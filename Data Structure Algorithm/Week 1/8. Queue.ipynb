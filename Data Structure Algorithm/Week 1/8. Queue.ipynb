{
 "cells": [
  {
   "cell_type": "code",
   "execution_count": 2,
   "metadata": {},
   "outputs": [],
   "source": [
    "\"\"\"\n",
    "Circular Queue implementation\n",
    "\"\"\"\n",
    "Q = []\n",
    "head = -1\n",
    "tail = -1\n",
    "capacity = 5\n",
    "starting_point = 2\n",
    "Q = [None for x in range(0, capacity)]\n",
    "def enqueue(value):\n",
    "    global head\n",
    "    global tail\n",
    "    global capacity\n",
    "    global Q\n",
    "    global starting_point\n",
    "    \n",
    "    if (tail + 1)%capacity == head:\n",
    "        print(\"Q is full\")\n",
    "        return\n",
    "    if head == -1:\n",
    "        head = starting_point\n",
    "        tail = head\n",
    "        Q[tail] = value\n",
    "    else:\n",
    "        tail = (tail + 1)%capacity\n",
    "        Q[tail] = value\n",
    "        \n",
    "def deque():\n",
    "    global head\n",
    "    global tail\n",
    "    global capacity\n",
    "    global Q\n",
    "    global starting_point\n",
    "    if head == -1:\n",
    "        print(\"Q is already empty\")\n",
    "        return\n",
    "    Q[head] = None\n",
    "    if head == tail:\n",
    "        head = -1\n",
    "        tail = -1\n",
    "    else:\n",
    "        head = (head +1)%capacity"
   ]
  },
  {
   "cell_type": "code",
   "execution_count": null,
   "metadata": {},
   "outputs": [],
   "source": []
  }
 ],
 "metadata": {
  "kernelspec": {
   "display_name": "Python 3",
   "language": "python",
   "name": "python3"
  },
  "language_info": {
   "codemirror_mode": {
    "name": "ipython",
    "version": 3
   },
   "file_extension": ".py",
   "mimetype": "text/x-python",
   "name": "python",
   "nbconvert_exporter": "python",
   "pygments_lexer": "ipython3",
   "version": "3.8.5"
  }
 },
 "nbformat": 4,
 "nbformat_minor": 4
}
