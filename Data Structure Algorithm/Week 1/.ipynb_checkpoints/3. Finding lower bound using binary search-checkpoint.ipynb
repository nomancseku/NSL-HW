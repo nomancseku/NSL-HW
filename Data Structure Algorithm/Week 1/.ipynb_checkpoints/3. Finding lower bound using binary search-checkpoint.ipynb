{
 "cells": [
  {
   "cell_type": "code",
   "execution_count": null,
   "metadata": {},
   "outputs": [],
   "source": [
    "def searchLowerBound(array, key):\n",
    "\tbegin=0\n",
    "\tend=len(array)-1\n",
    "\tindex=-1\n",
    "\twhile begin<=end:\n",
    "\t\tmid=(begin+end)//2\n",
    "\t\tif key == array[mid]: \n",
    "\t\t\tindex=mid\n",
    "\t\t\tend=mid-1\n",
    "\t\telif key > array[mid]: begin=mid+1\n",
    "\t\telif key < array[mid]: end=mid-1\n",
    "\treturn begin\n",
    "\t\n",
    "\n",
    "\n",
    "info=[100,2,10,50,20,500,100,150,200,1000,100]\n",
    "info=sorted(info)\n",
    "print info\n",
    "while True:\n",
    "\tX = int(raw_input())\n",
    "\tlowerbound=searchLowerBound(info,X)\n",
    "\tinfo.insert(lowerbound,X)\n",
    "\tprint \"New array: \",info"
   ]
  }
 ],
 "metadata": {
  "kernelspec": {
   "display_name": "Python 3",
   "language": "python",
   "name": "python3"
  },
  "language_info": {
   "codemirror_mode": {
    "name": "ipython",
    "version": 3
   },
   "file_extension": ".py",
   "mimetype": "text/x-python",
   "name": "python",
   "nbconvert_exporter": "python",
   "pygments_lexer": "ipython3",
   "version": "3.8.5"
  }
 },
 "nbformat": 4,
 "nbformat_minor": 4
}
