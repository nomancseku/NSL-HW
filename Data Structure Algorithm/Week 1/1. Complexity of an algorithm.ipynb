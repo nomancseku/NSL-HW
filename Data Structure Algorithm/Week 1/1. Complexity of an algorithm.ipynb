{
 "cells": [
  {
   "cell_type": "code",
   "execution_count": 2,
   "metadata": {},
   "outputs": [
    {
     "data": {
      "text/plain": [
       "'অ্যালগোরিদমের কমপ্লেক্সিটি হলো \\nO(1),এর মানে হলো ইনপুটের আকার যেমনই হোকনা কেন একটি constant টাইমে অ্যালগোরিদমটি কাজ করা শেষ করবে।'"
      ]
     },
     "execution_count": 2,
     "metadata": {},
     "output_type": "execute_result"
    }
   ],
   "source": [
    "# when an algorithm takes a constant time to execute any kind of input then the complexity of such algorithm is O(n)\n",
    "# Complexity = O(1)\n",
    "\n",
    "def myAlgorithm1(n):\n",
    "    x = n + 10\n",
    "    x = x // 2\n",
    "    return x\n",
    "\n",
    "\"\"\"অ্যালগোরিদমের কমপ্লেক্সিটি হলো \n",
    "O(1),এর মানে হলো ইনপুটের আকার যেমনই হোকনা কেন একটি constant টাইমে অ্যালগোরিদমটি কাজ করা শেষ করবে।\"\"\""
   ]
  },
  {
   "cell_type": "code",
   "execution_count": 4,
   "metadata": {},
   "outputs": [],
   "source": [
    "\"\"\"\n",
    "complexity of this algorithm is O(n)\n",
    "worst case এ যতগুলো ইনস্ট্রাকশন থাকবে সেটাই আমাদের কমপ্লেক্সিটি।\n",
    "\"\"\"\n",
    "def myAlgorithm2(n):\n",
    "    sum = 0\n",
    "    for i in range(n):\n",
    "        sum = sum + i\n",
    "        if sum >= 1000: break\n",
    "    return sum"
   ]
  },
  {
   "cell_type": "code",
   "execution_count": 5,
   "metadata": {},
   "outputs": [],
   "source": [
    "\"\"\"\n",
    "কমপ্লেক্সিটি হিসাবের সময় constant factor গুলোকে বাদ দিয়ে দিতে হয়। তবে কোড লেখার সময় constant factor এর কথা অবশ্যই মাথায় রাখতে হবে।\n",
    "Complexity = O(n2)\n",
    "\"\"\"\n",
    "def myAlgorithm3(n):\n",
    "    sum = 0\n",
    "    for i in range(n):\n",
    "        for j in range(n):\n",
    "            sum = sum + (i + j)\n",
    "    return sum"
   ]
  },
  {
   "cell_type": "code",
   "execution_count": 6,
   "metadata": {},
   "outputs": [],
   "source": [
    "\"\"\"\n",
    "Complexity = O(log2n)\n",
    "\"\"\"\n",
    "\n",
    "def myAlgorithm4(n, array, key):\n",
    "    low = 1\n",
    "    high = n\n",
    "    while low <= high:\n",
    "        mid = (low+high)//2\n",
    "        if key < array[mid]:\n",
    "            low = mid - 1\n",
    "        if key > array[mid]:\n",
    "            high = mid + 1\n",
    "        if key == array[mid]:\n",
    "            return 1;\n",
    "    return 0"
   ]
  },
  {
   "cell_type": "code",
   "execution_count": 7,
   "metadata": {},
   "outputs": [],
   "source": [
    "\"\"\"\n",
    "A recursive function to calculate factorial\n",
    "Complexity = O(n)\n",
    "because depth is n\n",
    "\"\"\"\n",
    "\n",
    "def myAlgorithm5(n):\n",
    "    if n == 1:\n",
    "        return 1\n",
    "    return n * myAlgorithm5(n-1)"
   ]
  },
  {
   "cell_type": "code",
   "execution_count": 12,
   "metadata": {},
   "outputs": [],
   "source": [
    "\"\"\"\n",
    "Common mistakes of beginner is to use len/ strlen() function in for loop\n",
    "it increases the complexity of any algorithm\n",
    "\"\"\"\n",
    "\n",
    "def myAlgorithm6(s):\n",
    "    c = 0\n",
    "    for i in range(len(s)):\n",
    "        if s[i] == 'a':\n",
    "            c = c + 1\n",
    "    return c\n",
    "\n",
    "\"\"\"\n",
    "Complexity = O(|s|^2)\n",
    "where |s| is the length of any particuar string \n",
    "\"\"\""
   ]
  },
  {
   "cell_type": "code",
   "execution_count": 13,
   "metadata": {},
   "outputs": [
    {
     "name": "stdout",
     "output_type": "stream",
     "text": [
      "1\n"
     ]
    }
   ],
   "source": [
    "print(myAlgorithm6('noman'))"
   ]
  },
  {
   "cell_type": "code",
   "execution_count": null,
   "metadata": {},
   "outputs": [],
   "source": []
  }
 ],
 "metadata": {
  "kernelspec": {
   "display_name": "Python 3",
   "language": "python",
   "name": "python3"
  },
  "language_info": {
   "codemirror_mode": {
    "name": "ipython",
    "version": 3
   },
   "file_extension": ".py",
   "mimetype": "text/x-python",
   "name": "python",
   "nbconvert_exporter": "python",
   "pygments_lexer": "ipython3",
   "version": "3.8.5"
  }
 },
 "nbformat": 4,
 "nbformat_minor": 4
}
