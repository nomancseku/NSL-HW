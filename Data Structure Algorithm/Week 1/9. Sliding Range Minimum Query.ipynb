{
 "cells": [
  {
   "cell_type": "code",
   "execution_count": 1,
   "metadata": {},
   "outputs": [],
   "source": [
    "\"\"\"\n",
    "Implementation (Brute force solution)\n",
    "Complexity = O(n^2)\n",
    "\"\"\"\n",
    "def brute_rmq(arr,m):\n",
    "\tres=[]\n",
    "\tfor i in range(0,len(arr)-m+1):\n",
    "\t\tsubarr=arr[i:i+m] #take subarray of size m, starting from index i\n",
    "\t\tres.append(min(subarr)) #append the minimum element in result\n",
    "\treturn res"
   ]
  },
  {
   "cell_type": "code",
   "execution_count": null,
   "metadata": {},
   "outputs": [],
   "source": []
  }
 ],
 "metadata": {
  "kernelspec": {
   "display_name": "Python 3",
   "language": "python",
   "name": "python3"
  },
  "language_info": {
   "codemirror_mode": {
    "name": "ipython",
    "version": 3
   },
   "file_extension": ".py",
   "mimetype": "text/x-python",
   "name": "python",
   "nbconvert_exporter": "python",
   "pygments_lexer": "ipython3",
   "version": "3.8.5"
  }
 },
 "nbformat": 4,
 "nbformat_minor": 4
}
