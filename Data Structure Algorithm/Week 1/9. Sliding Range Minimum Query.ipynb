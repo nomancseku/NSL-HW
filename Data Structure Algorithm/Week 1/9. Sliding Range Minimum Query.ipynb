{
 "cells": [
  {
   "cell_type": "code",
   "execution_count": 1,
   "metadata": {},
   "outputs": [],
   "source": [
    "\"\"\"\n",
    "Implementation (Brute force solution)\n",
    "Complexity = O(n^2)\n",
    "\"\"\"\n",
    "def brute_rmq(arr,m):\n",
    "\tres=[]\n",
    "\tfor i in range(0,len(arr)-m+1):\n",
    "\t\tsubarr=arr[i:i+m] #take subarray of size m, starting from index i\n",
    "\t\tres.append(min(subarr)) #append the minimum element in result\n",
    "\treturn res"
   ]
  },
  {
   "cell_type": "raw",
   "metadata": {},
   "source": [
    "# analysis\n",
    "# [10,50,15,12,4] ------------- output --> [10,12,4]\n",
    "m = 3\n",
    "i --> (i-m+1, i)\n",
    "4 --> (4-3+1, 4)\n",
    "      (2, 4)\n",
    "    \n",
    "    \n",
    ">>[10]\n",
    ">>[50,10]\n",
    ">>[15,10]\n",
    ">>[12,10]\n",
    ">>[12]\n",
    ">>[4]\n"
   ]
  },
  {
   "cell_type": "code",
   "execution_count": 2,
   "metadata": {},
   "outputs": [],
   "source": [
    "def sliding_rmq(arr, m):\n",
    "\t\n",
    "\tDQ = deque()\n",
    "\tres=[]\n",
    "\tfor i,val in enumerate(arr):\n",
    "\t\t\twhile len(DQ) and DQ[0][0]>=val: #DQ[0][0] is the leftmost element of DQ\n",
    "\t\t\t\tDQ.popleft()\n",
    "\t\t\tDQ.appendleft((val,i)) #pushing a pair containing the value and the index\n",
    "\t\t\t\n",
    "\t\t\twhile len(DQ) and DQ[-1][1]<=i-m: #DQ[-1][1] is the index of the rightmost element of DQ\n",
    "\t\t\t\tDQ.pop() #popping the out-of-range elements\n",
    "\t\t\t\n",
    "\t\t\tif i>=m-1: #We got a m size range\n",
    "\t\t\t\tprint(DQ[-1][0]) #print the rightmost element of DQ\n",
    "\t\t\t\tres.append(DQ[-1][0])\n",
    "\t\t\t\n",
    "\treturn res"
   ]
  },
  {
   "cell_type": "code",
   "execution_count": null,
   "metadata": {},
   "outputs": [],
   "source": [
    "sliding_rmq([10,50,15,12,4], 3)"
   ]
  },
  {
   "cell_type": "code",
   "execution_count": null,
   "metadata": {},
   "outputs": [],
   "source": []
  }
 ],
 "metadata": {
  "kernelspec": {
   "display_name": "Python 3",
   "language": "python",
   "name": "python3"
  },
  "language_info": {
   "codemirror_mode": {
    "name": "ipython",
    "version": 3
   },
   "file_extension": ".py",
   "mimetype": "text/x-python",
   "name": "python",
   "nbconvert_exporter": "python",
   "pygments_lexer": "ipython3",
   "version": "3.8.5"
  }
 },
 "nbformat": 4,
 "nbformat_minor": 4
}
