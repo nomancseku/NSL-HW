{
 "cells": [
  {
   "cell_type": "markdown",
   "metadata": {},
   "source": [
    "# Index\n",
    "- List comprehension\n",
    "- Dictionary comprehension"
   ]
  },
  {
   "cell_type": "markdown",
   "metadata": {},
   "source": [
    "# Listcomprehension"
   ]
  },
  {
   "cell_type": "code",
   "execution_count": 1,
   "metadata": {},
   "outputs": [],
   "source": [
    "num_list = [1, 2, 3, 4, 5, 6, 7, 8, 9, 10]"
   ]
  },
  {
   "cell_type": "code",
   "execution_count": 2,
   "metadata": {},
   "outputs": [
    {
     "name": "stdout",
     "output_type": "stream",
     "text": [
      "[2, 4, 6, 8, 10]\n"
     ]
    }
   ],
   "source": [
    "even_num_list = []\n",
    "for num in num_list:\n",
    "    if num % 2 == 0:\n",
    "        even_num_list.append(num)\n",
    "print (even_num_list)"
   ]
  },
  {
   "cell_type": "code",
   "execution_count": 6,
   "metadata": {},
   "outputs": [
    {
     "name": "stdout",
     "output_type": "stream",
     "text": [
      "[2, 4, 6, 8, 10]\n"
     ]
    }
   ],
   "source": [
    "even_num_list = [num for num in num_list if num % 2 == 0]\n",
    "print (even_num_list)"
   ]
  },
  {
   "cell_type": "code",
   "execution_count": 3,
   "metadata": {},
   "outputs": [
    {
     "name": "stdout",
     "output_type": "stream",
     "text": [
      "[1, 2, 3, 4, 5, 6]\n"
     ]
    }
   ],
   "source": [
    "# nested list comprehension\n",
    "matrix_1d = []\n",
    "matrix_2d = [[1, 2, 3],\n",
    "            [4, 5, 6]]\n",
    "\n",
    "# normal rule\n",
    "for row in matrix_2d:\n",
    "    for col in row:\n",
    "        matrix_1d.append(col)\n",
    "print(matrix_1d)"
   ]
  },
  {
   "cell_type": "code",
   "execution_count": 4,
   "metadata": {},
   "outputs": [
    {
     "name": "stdout",
     "output_type": "stream",
     "text": [
      "matrix_id [1, 2, 3, 4, 5, 6]\n"
     ]
    }
   ],
   "source": [
    "# using list comprehension\n",
    "matrix_1d = [num for row in matrix_2d for num in row]\n",
    "print('matrix_id', matrix_1d)"
   ]
  },
  {
   "cell_type": "code",
   "execution_count": 5,
   "metadata": {},
   "outputs": [
    {
     "name": "stdout",
     "output_type": "stream",
     "text": [
      "[1, 4, 9, 16, 25, 36]\n"
     ]
    }
   ],
   "source": [
    "# operation on item\n",
    "matrix_1d = [num**2 for row in matrix_2d for num in row]\n",
    "print(matrix_1d)"
   ]
  },
  {
   "cell_type": "code",
   "execution_count": 6,
   "metadata": {},
   "outputs": [
    {
     "name": "stdout",
     "output_type": "stream",
     "text": [
      "I m wsm!\n"
     ]
    }
   ],
   "source": [
    "# Another example\n",
    "vowels = 'aeiou'\n",
    "sentence = 'I am awesome!'\n",
    "filtered_letters = []\n",
    "\n",
    "for letter in sentence:\n",
    "    if letter not in vowels:\n",
    "        filtered_letters.append(letter)\n",
    "\n",
    "print(''.join(filtered_letters))"
   ]
  },
  {
   "cell_type": "code",
   "execution_count": 7,
   "metadata": {},
   "outputs": [
    {
     "name": "stdout",
     "output_type": "stream",
     "text": [
      "Pythn's lst cmprhnsns r wsm\n"
     ]
    }
   ],
   "source": [
    "# using list comprehension\n",
    "vowels = 'aeiou'\n",
    "sentence = 'Python\\'s list comprehensions are awesome'\n",
    "\n",
    "filtered_sentence = ''.join([letter for letter in sentence if letter not in vowels])\n",
    "print(filtered_sentence)"
   ]
  },
  {
   "cell_type": "markdown",
   "metadata": {},
   "source": [
    "# Dictionary comprehension"
   ]
  },
  {
   "cell_type": "code",
   "execution_count": 22,
   "metadata": {},
   "outputs": [
    {
     "name": "stdout",
     "output_type": "stream",
     "text": [
      "marks : {'Arif': 80, 'Rashed': 90, 'Kousar': 70, 'Rokibul': 75, 'Tihum': 95}\n",
      "filter: {'Arif': 80, 'Rashed': 90, 'Tihum': 95}\n"
     ]
    }
   ],
   "source": [
    "marks = {'Arif' : 80, 'Rashed' : 90, 'Kousar' : 70, 'Rokibul' : 75, 'Tihum' : 95}\n",
    "print('marks :', marks)\n",
    "filter_marks = {key : val for key, val in marks.items() if val >= 80}\n",
    "print('filter:', filter_marks)"
   ]
  },
  {
   "cell_type": "code",
   "execution_count": 20,
   "metadata": {},
   "outputs": [
    {
     "name": "stdout",
     "output_type": "stream",
     "text": [
      "{1: 'Mango', 2: 'Pineapple', 3: 'Watermelon'}\n"
     ]
    }
   ],
   "source": [
    "# some application\n",
    "# normal approach\n",
    "fruit_ranking = [1, 2, 3]\n",
    "fruit_name = ['Mango', 'Pineapple', 'Watermelon']\n",
    "fruit_rank_dict = {}\n",
    "\n",
    "for i in range(len(fruit_ranking)):\n",
    "    fruit_rank_dict[fruit_ranking[i]] = fruit_name[i]\n",
    "\n",
    "print(fruit_rank_dict)"
   ]
  },
  {
   "cell_type": "code",
   "execution_count": 21,
   "metadata": {},
   "outputs": [
    {
     "name": "stdout",
     "output_type": "stream",
     "text": [
      "{1: 'Mango', 2: 'Pineapple', 3: 'Watermelon'}\n"
     ]
    }
   ],
   "source": [
    "# dictionar comprehension\n",
    "fruit_ranking = [1, 2, 3]\n",
    "\n",
    "fruit = ['Mango', 'Pineapple', 'Watermelon']\n",
    "\n",
    "fruit_ranking_dict = { fruit_ranking[i] : fruit[i] for i in range(len(fruit_ranking)) }\n",
    "\n",
    "print(fruit_ranking_dict)"
   ]
  },
  {
   "cell_type": "code",
   "execution_count": 10,
   "metadata": {},
   "outputs": [
    {
     "name": "stdout",
     "output_type": "stream",
     "text": [
      "5 1\n",
      "6 4\n",
      "10 5\n"
     ]
    }
   ],
   "source": [
    "# zip\n",
    "a = [1, 4, 5]\n",
    "b = [5, 6, 10]\n",
    "for i, j in zip(b, a):\n",
    "    print(i, j)"
   ]
  },
  {
   "cell_type": "code",
   "execution_count": 5,
   "metadata": {},
   "outputs": [
    {
     "name": "stdout",
     "output_type": "stream",
     "text": [
      "0 : cse\n",
      "1 : eee\n",
      "2 : ete\n"
     ]
    }
   ],
   "source": [
    "# enumerate\n",
    "subjects = ['cse', 'eee', 'ete']\n",
    "for i, subject in enumerate(subjects):\n",
    "    print(i, ':', subject)"
   ]
  },
  {
   "cell_type": "code",
   "execution_count": null,
   "metadata": {},
   "outputs": [],
   "source": []
  }
 ],
 "metadata": {
  "kernelspec": {
   "display_name": "Python 3",
   "language": "python",
   "name": "python3"
  },
  "language_info": {
   "codemirror_mode": {
    "name": "ipython",
    "version": 3
   },
   "file_extension": ".py",
   "mimetype": "text/x-python",
   "name": "python",
   "nbconvert_exporter": "python",
   "pygments_lexer": "ipython3",
   "version": "3.8.5"
  }
 },
 "nbformat": 4,
 "nbformat_minor": 2
}
