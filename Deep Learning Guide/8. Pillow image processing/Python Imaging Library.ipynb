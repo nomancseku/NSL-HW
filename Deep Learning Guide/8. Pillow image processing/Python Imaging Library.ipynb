{
 "cells": [
  {
   "cell_type": "markdown",
   "metadata": {},
   "source": [
    "## loading an image"
   ]
  },
  {
   "cell_type": "code",
   "execution_count": 2,
   "metadata": {},
   "outputs": [],
   "source": [
    "from PIL import Image\n",
    "im = Image.open(\"lena.png\")"
   ]
  },
  {
   "cell_type": "markdown",
   "metadata": {},
   "source": [
    "## examine the file contents"
   ]
  },
  {
   "cell_type": "code",
   "execution_count": 2,
   "metadata": {},
   "outputs": [
    {
     "name": "stdout",
     "output_type": "stream",
     "text": [
      "PNG (512, 512) RGB\n"
     ]
    }
   ],
   "source": [
    "from __future__ import print_function\n",
    "print(im.format, im.size, im.mode)"
   ]
  },
  {
   "cell_type": "markdown",
   "metadata": {},
   "source": [
    "- The *format* attribute identifies the source of an image. If the image was not read from a file, it is set to None. \n",
    "- The *size* attribute is a 2-tuple containing width and height (in pixels). \n",
    "- The *mode* attribute defines the number and names of the bands in the image,"
   ]
  },
  {
   "cell_type": "markdown",
   "metadata": {},
   "source": [
    "## let’s display the image we just loaded"
   ]
  },
  {
   "cell_type": "code",
   "execution_count": 3,
   "metadata": {},
   "outputs": [],
   "source": [
    "im.show()"
   ]
  },
  {
   "cell_type": "markdown",
   "metadata": {},
   "source": [
    "- The standard version of show() is not very efficient, since it saves the image to a temporary file and calls the xv utility to display the image. If you don’t have xv installed, it won’t even work. When it does work though, it is very handy for debugging and tests."
   ]
  },
  {
   "cell_type": "markdown",
   "metadata": {},
   "source": [
    "## Reading and writing images"
   ]
  },
  {
   "cell_type": "markdown",
   "metadata": {},
   "source": [
    "- Python Imaging Library (PIL)\n",
    "- You don’t have to know the file format to open a file. The library automatically determines the format based on the contents of the file.\n",
    "- Unless you specify the format, the library uses the filename extension to discover which file storage format to use."
   ]
  },
  {
   "cell_type": "markdown",
   "metadata": {},
   "source": [
    "## Convert all image files to JPEG"
   ]
  },
  {
   "cell_type": "code",
   "execution_count": 4,
   "metadata": {},
   "outputs": [
    {
     "name": "stdout",
     "output_type": "stream",
     "text": [
      "cannot convert -f\n",
      "cannot convert C:\\Users\\Dell\\AppData\\Roaming\\jupyter\\runtime\\kernel-da0e4f10-19e7-4884-99e6-395f5c2cfaef.json\n"
     ]
    }
   ],
   "source": [
    "## ------------ignore--------------\n",
    "from __future__ import print_function\n",
    "import os, sys\n",
    "from PIL import Image\n",
    "\n",
    "for infile in sys.argv[1:]:\n",
    "    f, e = os.path.splitext(infile)\n",
    "    outfile = f + \".jpg\"\n",
    "    if infile != outfile:\n",
    "        try:\n",
    "            Image.open(infile).save(outfile)\n",
    "        except IOError:\n",
    "            print(\"cannot convert\", infile)"
   ]
  },
  {
   "cell_type": "code",
   "execution_count": 17,
   "metadata": {},
   "outputs": [
    {
     "name": "stdout",
     "output_type": "stream",
     "text": [
      ".ipynb_checkpoints\n",
      "\n",
      ".ipynb_checkpoints.jpg\n",
      "cannot convert .ipynb_checkpoints\n",
      "lena\n",
      ".jpg\n",
      "lena.jpg\n",
      "lena\n",
      ".png\n",
      "lena.jpg\n",
      "converted lena.png to lena.jpg\n",
      "Python Imaging Library\n",
      ".ipynb\n",
      "Python Imaging Library.jpg\n",
      "cannot convert Python Imaging Library.ipynb\n"
     ]
    }
   ],
   "source": [
    "from __future__ import print_function\n",
    "import os, sys\n",
    "from PIL import Image\n",
    "\n",
    "for infile in os.listdir(os.getcwd()):\n",
    "    f, e = os.path.splitext(infile)\n",
    "    print(f)\n",
    "    print(e)\n",
    "    outfile = f + \".jpg\"\n",
    "    print(outfile)\n",
    "    if infile != outfile:\n",
    "        try:\n",
    "            Image.open(infile).save(outfile)\n",
    "            print('converted',infile,'to',outfile)\n",
    "        except IOError:\n",
    "            print(\"cannot convert\", infile)"
   ]
  },
  {
   "cell_type": "markdown",
   "metadata": {},
   "source": [
    "## Create JPEG thumbnails"
   ]
  },
  {
   "cell_type": "code",
   "execution_count": 18,
   "metadata": {},
   "outputs": [
    {
     "name": "stdout",
     "output_type": "stream",
     "text": [
      ".ipynb_checkpoints .ipynb_checkpoints.thumbnail\n",
      "cannot create thumbnail for .ipynb_checkpoints\n",
      "lena.jpg lena.thumbnail\n",
      "lena.png lena.thumbnail\n",
      "Python Imaging Library.ipynb Python Imaging Library.thumbnail\n",
      "cannot create thumbnail for Python Imaging Library.ipynb\n"
     ]
    }
   ],
   "source": [
    "from __future__ import print_function\n",
    "import os, sys\n",
    "from PIL import Image\n",
    "\n",
    "size = (128, 128)\n",
    "\n",
    "for infile in os.listdir(os.getcwd()):\n",
    "    outfile = os.path.splitext(infile)[0] + \".thumbnail\"\n",
    "    print(infile, outfile)\n",
    "    if infile != outfile:\n",
    "        try:\n",
    "            im = Image.open(infile)\n",
    "            im.thumbnail(size)\n",
    "            im.save(outfile, \"JPEG\")\n",
    "        except IOError:\n",
    "            print(\"cannot create thumbnail for\", infile)"
   ]
  },
  {
   "cell_type": "code",
   "execution_count": 19,
   "metadata": {},
   "outputs": [
    {
     "name": "stdout",
     "output_type": "stream",
     "text": [
      "('how/are/you/a', '.png')\n"
     ]
    }
   ],
   "source": [
    "print(os.path.splitext('how/are/you/a.png'))"
   ]
  },
  {
   "cell_type": "markdown",
   "metadata": {},
   "source": [
    "- It is important to note that the library doesn’t decode or load the raster data unless it really has to. When you open a file, the file header is read to determine the file format and extract things like mode, size, and other properties required to decode the file, but the rest of the file is not processed until later.\n",
    "\n",
    "- This means that opening an image file is a fast operation, which is independent of the file size and compression type."
   ]
  },
  {
   "cell_type": "markdown",
   "metadata": {},
   "source": [
    "## Identify Image Files"
   ]
  },
  {
   "cell_type": "code",
   "execution_count": 23,
   "metadata": {},
   "outputs": [
    {
     "name": "stdout",
     "output_type": "stream",
     "text": [
      "lena.jpg JPEG 512x512 RGB\n",
      "<class 'tuple'>\n",
      "lena.png PNG 512x512 RGB\n",
      "<class 'tuple'>\n",
      "lena.thumbnail JPEG 128x128 RGB\n",
      "<class 'tuple'>\n"
     ]
    }
   ],
   "source": [
    "from __future__ import print_function\n",
    "import sys\n",
    "from PIL import Image\n",
    "\n",
    "for infile in os.listdir(os.getcwd()):\n",
    "    #print(infile)\n",
    "    try:\n",
    "        with Image.open(infile) as im:\n",
    "            print(infile, im.format, \"%dx%d\" % im.size, im.mode)\n",
    "            print(type(im.size))\n",
    "    except IOError:\n",
    "        pass"
   ]
  },
  {
   "cell_type": "markdown",
   "metadata": {},
   "source": [
    "## Cutting, pasting, and merging images"
   ]
  },
  {
   "cell_type": "markdown",
   "metadata": {},
   "source": [
    "- The Image class contains methods allowing you to manipulate regions within an image. To extract a sub-rectangle from an image, use the crop() method."
   ]
  },
  {
   "cell_type": "markdown",
   "metadata": {},
   "source": [
    "## Copying a subrectangle from an image"
   ]
  },
  {
   "cell_type": "code",
   "execution_count": 25,
   "metadata": {},
   "outputs": [],
   "source": [
    "im = Image.open(\"lena.png\")\n",
    "box = (100, 100, 400, 400)\n",
    "region = im.crop(box)"
   ]
  },
  {
   "cell_type": "markdown",
   "metadata": {},
   "source": [
    "- The region could now be processed in a certain manner and pasted back."
   ]
  },
  {
   "cell_type": "markdown",
   "metadata": {},
   "source": [
    "## Processing a subrectangle, and pasting it back"
   ]
  },
  {
   "cell_type": "code",
   "execution_count": 26,
   "metadata": {},
   "outputs": [],
   "source": [
    "region = region.transpose(Image.ROTATE_180)\n",
    "im.paste(region, box)"
   ]
  },
  {
   "cell_type": "code",
   "execution_count": 27,
   "metadata": {},
   "outputs": [],
   "source": [
    "im.show()"
   ]
  },
  {
   "cell_type": "code",
   "execution_count": 28,
   "metadata": {},
   "outputs": [],
   "source": [
    "im.save('pasted.png')"
   ]
  },
  {
   "cell_type": "markdown",
   "metadata": {},
   "source": [
    "## Rolling an image"
   ]
  },
  {
   "cell_type": "code",
   "execution_count": 36,
   "metadata": {},
   "outputs": [],
   "source": [
    "def roll(image, delta):\n",
    "    \"Roll an image sideways\"\n",
    "\n",
    "    xsize, ysize = image.size #width and height\n",
    "\n",
    "    delta = delta % xsize\n",
    "    if delta == 0: return image\n",
    "\n",
    "    part1 = image.crop((0, 0, delta, ysize))\n",
    "    part2 = image.crop((delta, 0, xsize, ysize))\n",
    "    image.paste(part2, (0, 0, xsize-delta, ysize))\n",
    "    image.paste(part1, (xsize-delta, 0, xsize, ysize))\n",
    "\n",
    "    return image"
   ]
  },
  {
   "cell_type": "code",
   "execution_count": 37,
   "metadata": {},
   "outputs": [
    {
     "name": "stdout",
     "output_type": "stream",
     "text": [
      "(512, 512)\n"
     ]
    }
   ],
   "source": [
    "im = Image.open(\"lena.png\")\n",
    "print(im.size)\n",
    "im.show(roll(im,10))"
   ]
  },
  {
   "cell_type": "markdown",
   "metadata": {},
   "source": [
    "## Splitting and merging bands"
   ]
  },
  {
   "cell_type": "code",
   "execution_count": 50,
   "metadata": {},
   "outputs": [],
   "source": [
    "im = Image.open(\"lena.png\")\n",
    "r, g, b = im.split()\n",
    "im1 = Image.merge(\"RGB\", (b, g, r))\n",
    "im2 = Image.merge(\"RGB\", (r, r, r))\n",
    "im3 = Image.merge(\"RGB\", (g, g, g))\n",
    "im4 = Image.merge(\"RGB\", (b, b, b))\n",
    "\n",
    "im5 = Image.merge(\"RGB\", (g, r, b))"
   ]
  },
  {
   "cell_type": "code",
   "execution_count": 52,
   "metadata": {},
   "outputs": [
    {
     "name": "stdout",
     "output_type": "stream",
     "text": [
      "RGB\n"
     ]
    }
   ],
   "source": [
    "print(im1.mode)\n",
    "#im1.show()\n",
    "#im2.show()\n",
    "#im3.show()\n",
    "#im4.show()\n",
    "\n",
    "im5.show()"
   ]
  },
  {
   "cell_type": "markdown",
   "metadata": {},
   "source": [
    "- Note that for a single-band image, split() returns the image itself. To work with individual color bands, you may want to convert the image to “RGB” first."
   ]
  },
  {
   "cell_type": "markdown",
   "metadata": {},
   "source": [
    "## Geometrical transforms"
   ]
  },
  {
   "cell_type": "markdown",
   "metadata": {},
   "source": [
    "- The PIL.Image.Image class contains methods to resize() and rotate() an image. The former takes a tuple giving the new size, the latter the angle in degrees counter-clockwise.\n"
   ]
  },
  {
   "cell_type": "markdown",
   "metadata": {},
   "source": [
    "## Simple geometry transforms"
   ]
  },
  {
   "cell_type": "code",
   "execution_count": 4,
   "metadata": {},
   "outputs": [],
   "source": [
    "im = Image.open(\"lena.png\")\n",
    "out = im.resize((128, 128))\n",
    "out.show()\n",
    "out = im.rotate(45) # degrees counter-clockwise\n",
    "out.show()\n",
    "out.save('rotated.png')"
   ]
  },
  {
   "cell_type": "markdown",
   "metadata": {},
   "source": [
    "- To rotate the image in 90 degree steps, you can either use the rotate() method or the transpose() method. The latter can also be used to flip an image around its horizontal or vertical axis."
   ]
  },
  {
   "cell_type": "markdown",
   "metadata": {},
   "source": [
    "## Transposing an image"
   ]
  },
  {
   "cell_type": "code",
   "execution_count": 5,
   "metadata": {},
   "outputs": [],
   "source": [
    "out = im.transpose(Image.FLIP_LEFT_RIGHT)\n",
    "out.save('transposing/l2r.png')\n",
    "out = im.transpose(Image.FLIP_TOP_BOTTOM)\n",
    "out.save('transposing/t2b.png')\n",
    "out = im.transpose(Image.ROTATE_90)\n",
    "out.save('transposing/90degree.png')\n",
    "out = im.transpose(Image.ROTATE_180)\n",
    "out.save('transposing/180degree.png')\n",
    "out = im.transpose(Image.ROTATE_270)\n",
    "out.save('transposing/270degree.png')"
   ]
  },
  {
   "cell_type": "markdown",
   "metadata": {},
   "source": [
    "- There’s no difference in performance or result between **transpose(ROTATE)** and corresponding **rotate()** operations."
   ]
  },
  {
   "cell_type": "markdown",
   "metadata": {},
   "source": [
    "- A more general form of image transformations can be carried out via the transform() method."
   ]
  },
  {
   "cell_type": "markdown",
   "metadata": {},
   "source": [
    "## Color transforms"
   ]
  },
  {
   "cell_type": "markdown",
   "metadata": {},
   "source": [
    "- The Python Imaging Library allows you to convert images between different pixel representations using the ***convert()*** method."
   ]
  },
  {
   "cell_type": "markdown",
   "metadata": {},
   "source": [
    "## Converting between modes"
   ]
  },
  {
   "cell_type": "code",
   "execution_count": 6,
   "metadata": {},
   "outputs": [],
   "source": [
    "im = Image.open(\"lena.png\").convert(\"L\")\n",
    "im.show()"
   ]
  },
  {
   "cell_type": "markdown",
   "metadata": {},
   "source": [
    "- The library supports transformations between each supported mode and the “L” and “RGB” modes. To convert between other modes, you may have to use an intermediate image (typically an “RGB” image)."
   ]
  },
  {
   "cell_type": "markdown",
   "metadata": {},
   "source": [
    "## Image enhancement"
   ]
  },
  {
   "cell_type": "markdown",
   "metadata": {},
   "source": [
    "## Applying filters"
   ]
  },
  {
   "cell_type": "markdown",
   "metadata": {},
   "source": [
    "- The **ImageFilter** module contains a number of pre-defined enhancement filters that can be used with the **filter()** method."
   ]
  },
  {
   "cell_type": "markdown",
   "metadata": {},
   "source": [
    "from PIL import ImageFilter\n",
    "\n",
    "im = Image.open(\"lena.png\")\n",
    "im.show('im')\n",
    "im.save('filter/orig.png')\n",
    "out = im.filter(ImageFilter.DETAIL)\n",
    "out = out.filter(ImageFilter.DETAIL)\n",
    "out = out.filter(ImageFilter.DETAIL)\n",
    "out.show()\n",
    "out.save('filter/out.png')"
   ]
  },
  {
   "cell_type": "markdown",
   "metadata": {},
   "source": [
    "## Point Operations"
   ]
  },
  {
   "cell_type": "markdown",
   "metadata": {},
   "source": [
    "## Applying point transforms"
   ]
  },
  {
   "cell_type": "code",
   "execution_count": 12,
   "metadata": {},
   "outputs": [],
   "source": [
    "# multiply each pixel by 1.2\n",
    "im = Image.open(\"lena.png\")\n",
    "im.save('point/orig.png')\n",
    "out = im.point(lambda i: i * 1.2)\n",
    "out.save('point/out.png')"
   ]
  },
  {
   "cell_type": "markdown",
   "metadata": {},
   "source": [
    "- Using the above technique, you can quickly apply any simple expression to an image. You can also combine the point() and paste() methods to selectively modify an image:"
   ]
  },
  {
   "cell_type": "markdown",
   "metadata": {},
   "source": [
    "## Processing individual bands"
   ]
  },
  {
   "cell_type": "code",
   "execution_count": 20,
   "metadata": {},
   "outputs": [],
   "source": [
    "im = Image.open(\"lena.png\")\n",
    "# split the image into individual bands\n",
    "source = im.split()\n",
    "\n",
    "R, G, B = 0, 1, 2\n",
    "\n",
    "# select regions where red is less than 100\n",
    "mask = source[R].point(lambda i: i < 100 and 255) # if i < 100 returns 255 else returns false(0)\n",
    "\n",
    "# process the green band\n",
    "out = source[G].point(lambda i: i * 0.7)\n",
    "\n",
    "\n",
    "# paste the processed band back, but only where red was < 100\n",
    "source[G].paste(out, None, mask) # mask is just filtering here\n",
    "\n",
    "# build a new multiband image\n",
    "im = Image.merge(im.mode, source)\n",
    "im.show()\n",
    "\n",
    "# here we are reducing the green where red's intensity value is less than 100"
   ]
  },
  {
   "cell_type": "markdown",
   "metadata": {},
   "source": [
    "- Python only evaluates the portion of a logical expression as is necessary to determine the outcome, and returns the last value examined as the result of the expression. So if the expression above is false (0), Python does not look at the second operand, and thus returns 0. Otherwise, it returns 255."
   ]
  },
  {
   "cell_type": "markdown",
   "metadata": {},
   "source": [
    "## Enhancement"
   ]
  },
  {
   "cell_type": "code",
   "execution_count": 3,
   "metadata": {},
   "outputs": [],
   "source": [
    "from PIL import Image\n",
    "from PIL import ImageEnhance\n",
    "\n",
    "im = Image.open(\"lena.png\")\n",
    "\n",
    "enh = ImageEnhance.Contrast(im)\n",
    "enh.enhance(1.3).show(\"30% more contrast\")"
   ]
  },
  {
   "cell_type": "markdown",
   "metadata": {},
   "source": [
    "## Image sequences"
   ]
  },
  {
   "cell_type": "markdown",
   "metadata": {},
   "source": [
    "## Reading sequences"
   ]
  },
  {
   "cell_type": "code",
   "execution_count": 15,
   "metadata": {},
   "outputs": [
    {
     "name": "stdout",
     "output_type": "stream",
     "text": [
      "no more images in GIF file\n"
     ]
    }
   ],
   "source": [
    "from PIL import Image\n",
    "im = Image.open(\"animation.gif\")\n",
    "im.seek(1) # skip to the second frame\n",
    "\n",
    "try:\n",
    "    while 1:\n",
    "        im.seek(im.tell()+1)\n",
    "        im.show()\n",
    "        # do something to im\n",
    "except EOFError as e:\n",
    "    print(e)\n",
    "    pass # end of sequence"
   ]
  },
  {
   "cell_type": "markdown",
   "metadata": {},
   "source": [
    "## A sequence iterator class"
   ]
  },
  {
   "cell_type": "code",
   "execution_count": 16,
   "metadata": {},
   "outputs": [
    {
     "name": "stdout",
     "output_type": "stream",
     "text": [
      "ddd\n"
     ]
    }
   ],
   "source": [
    "from PIL import Image\n",
    "im = Image.open(\"animation.gif\")\n",
    "\n",
    "class ImageSequence:\n",
    "    def __init__(self, im):\n",
    "        self.im = im\n",
    "    def __getitem__(self, ix):\n",
    "        try:\n",
    "            if ix:\n",
    "                self.im.seek(ix)\n",
    "            return self.im\n",
    "        except EOFError:\n",
    "            print('ddd')\n",
    "            raise IndexError # end of sequence\n",
    "\n",
    "for frame in ImageSequence(im):\n",
    "    # ...do something to frame...\n",
    "    frame.show()\n",
    "    pass"
   ]
  },
  {
   "cell_type": "markdown",
   "metadata": {},
   "source": [
    "## Postscript printing\n",
    "## Drawing Postscript"
   ]
  },
  {
   "cell_type": "code",
   "execution_count": 17,
   "metadata": {},
   "outputs": [
    {
     "name": "stdout",
     "output_type": "stream",
     "text": [
      "%!PS-Adobe-3.0\n",
      "save\n",
      "/showpage { } def\n",
      "%%EndComments\n",
      "%%BeginDocument\n",
      "/S { show } bind def\n",
      "/P { moveto show } bind def\n",
      "/M { moveto } bind def\n",
      "/X { 0 rmoveto } bind def\n",
      "/Y { 0 exch rmoveto } bind def\n",
      "/E {    findfont\n",
      "        dup maxlength dict begin\n",
      "        {\n",
      "                1 index /FID ne { def } { pop pop } ifelse\n",
      "        } forall\n",
      "        /Encoding exch def\n",
      "        dup /FontName exch def\n",
      "        currentdict end definefont pop\n",
      "} bind def\n",
      "/F {    findfont exch scalefont dup setfont\n",
      "        [ exch /setfont cvx ] cvx bind def\n",
      "} bind def\n",
      "/Vm { moveto } bind def\n",
      "/Va { newpath arcn stroke } bind def\n",
      "/Vl { moveto lineto stroke } bind def\n",
      "/Vc { newpath 0 360 arc closepath } bind def\n",
      "/Vr {   exch dup 0 rlineto\n",
      "        exch dup neg 0 exch rlineto\n",
      "        exch neg 0 rlineto\n",
      "        0 exch rlineto\n",
      "        100 div setgray fill 0 setgray } bind def\n",
      "/Tm matrix def\n",
      "/Ve {   Tm currentmatrix pop\n",
      "        translate scale newpath 0 0 .5 0 360 arc closepath\n",
      "        Tm setmatrix\n",
      "} bind def\n",
      "/Vf { currentgray exch setgray fill setgray } bind def\n",
      "%%EndProlog\n",
      "gsave\n",
      "72.000000 216.000000 translate\n",
      "0.843750 0.843750 scale\n",
      "gsave\n",
      "10 dict begin\n",
      "/buf 1536 string def\n",
      "512 512 scale\n",
      "512 512 8\n",
      "[512 0 0 -512 0 512]\n",
      "{ currentfile buf readhexstring pop } bind\n",
      "false 3 colorimage\n",
      "\n",
      "%%%%EndBinary\n",
      "grestore end\n",
      "\n",
      "grestore\n",
      "72 144 M 504 720 0 Vr\n",
      "/PSDraw-HelveticaNarrow-Bold ISOLatin1Encoding /HelveticaNarrow-Bold E\n",
      "/F0 36 /PSDraw-HelveticaNarrow-Bold F\n",
      "216 288 M (lena) S\n",
      "%%EndDocument\n",
      "restore showpage\n",
      "%%End\n"
     ]
    }
   ],
   "source": [
    "from PIL import Image\n",
    "from PIL import PSDraw\n",
    "\n",
    "im = Image.open(\"lena.png\")\n",
    "title = \"lena\"\n",
    "box = (1*72, 2*72, 7*72, 10*72) # in points\n",
    "\n",
    "ps = PSDraw.PSDraw() # default is sys.stdout\n",
    "ps.begin_document(title)\n",
    "\n",
    "# draw the image (75 dpi)\n",
    "ps.image(box, im, 75)\n",
    "ps.rectangle(box)\n",
    "\n",
    "# draw title\n",
    "ps.setfont(\"HelveticaNarrow-Bold\", 36)\n",
    "ps.text((3*72, 4*72), title)\n",
    "\n",
    "ps.end_document()"
   ]
  },
  {
   "cell_type": "markdown",
   "metadata": {},
   "source": [
    "## More on reading images"
   ]
  },
  {
   "cell_type": "markdown",
   "metadata": {},
   "source": [
    "## Reading from an open file"
   ]
  },
  {
   "cell_type": "code",
   "execution_count": 19,
   "metadata": {},
   "outputs": [],
   "source": [
    "fp = open(\"lena.png\", \"rb\")\n",
    "im = Image.open(fp)\n",
    "im.show()"
   ]
  },
  {
   "cell_type": "markdown",
   "metadata": {},
   "source": [
    "## Reading from a string"
   ]
  },
  {
   "cell_type": "code",
   "execution_count": 2,
   "metadata": {},
   "outputs": [
    {
     "name": "stderr",
     "output_type": "stream",
     "text": [
      "ERROR: Could not find a version that satisfies the requirement StringIO\n",
      "ERROR: No matching distribution found for StringIO\n"
     ]
    },
    {
     "ename": "ModuleNotFoundError",
     "evalue": "No module named 'StringIO'",
     "output_type": "error",
     "traceback": [
      "\u001b[1;31m---------------------------------------------------------------------------\u001b[0m",
      "\u001b[1;31mModuleNotFoundError\u001b[0m                       Traceback (most recent call last)",
      "\u001b[1;32m<ipython-input-2-c513e8f192a2>\u001b[0m in \u001b[0;36m<module>\u001b[1;34m\u001b[0m\n\u001b[0;32m      1\u001b[0m \u001b[0mget_ipython\u001b[0m\u001b[1;33m(\u001b[0m\u001b[1;33m)\u001b[0m\u001b[1;33m.\u001b[0m\u001b[0msystem\u001b[0m\u001b[1;33m(\u001b[0m\u001b[1;34m'pip install StringIO'\u001b[0m\u001b[1;33m)\u001b[0m\u001b[1;33m\u001b[0m\u001b[1;33m\u001b[0m\u001b[0m\n\u001b[1;32m----> 2\u001b[1;33m \u001b[1;32mimport\u001b[0m \u001b[0mStringIO\u001b[0m\u001b[1;33m\u001b[0m\u001b[1;33m\u001b[0m\u001b[0m\n\u001b[0m\u001b[0;32m      3\u001b[0m \u001b[1;33m\u001b[0m\u001b[0m\n\u001b[0;32m      4\u001b[0m \u001b[0mim\u001b[0m \u001b[1;33m=\u001b[0m \u001b[0mImage\u001b[0m\u001b[1;33m.\u001b[0m\u001b[0mopen\u001b[0m\u001b[1;33m(\u001b[0m\u001b[0mStringIO\u001b[0m\u001b[1;33m.\u001b[0m\u001b[0mStringIO\u001b[0m\u001b[1;33m(\u001b[0m\u001b[0mbuffer\u001b[0m\u001b[1;33m)\u001b[0m\u001b[1;33m)\u001b[0m\u001b[1;33m\u001b[0m\u001b[1;33m\u001b[0m\u001b[0m\n",
      "\u001b[1;31mModuleNotFoundError\u001b[0m: No module named 'StringIO'"
     ]
    }
   ],
   "source": [
    "!pip install StringIO\n",
    "import StringIO\n",
    "\n",
    "im = Image.open(StringIO.StringIO(buffer))"
   ]
  },
  {
   "cell_type": "markdown",
   "metadata": {},
   "source": [
    "## Reading from a tar archive"
   ]
  },
  {
   "cell_type": "code",
   "execution_count": 3,
   "metadata": {},
   "outputs": [
    {
     "ename": "FileNotFoundError",
     "evalue": "[Errno 2] No such file or directory: 'Imaging.tar'",
     "output_type": "error",
     "traceback": [
      "\u001b[1;31m---------------------------------------------------------------------------\u001b[0m",
      "\u001b[1;31mFileNotFoundError\u001b[0m                         Traceback (most recent call last)",
      "\u001b[1;32m<ipython-input-3-b13ac88e6364>\u001b[0m in \u001b[0;36m<module>\u001b[1;34m\u001b[0m\n\u001b[0;32m      1\u001b[0m \u001b[1;32mfrom\u001b[0m \u001b[0mPIL\u001b[0m \u001b[1;32mimport\u001b[0m \u001b[0mTarIO\u001b[0m\u001b[1;33m\u001b[0m\u001b[1;33m\u001b[0m\u001b[0m\n\u001b[0;32m      2\u001b[0m \u001b[1;33m\u001b[0m\u001b[0m\n\u001b[1;32m----> 3\u001b[1;33m \u001b[0mfp\u001b[0m \u001b[1;33m=\u001b[0m \u001b[0mTarIO\u001b[0m\u001b[1;33m.\u001b[0m\u001b[0mTarIO\u001b[0m\u001b[1;33m(\u001b[0m\u001b[1;34m\"Imaging.tar\"\u001b[0m\u001b[1;33m,\u001b[0m \u001b[1;34m\"lena.png\"\u001b[0m\u001b[1;33m)\u001b[0m\u001b[1;33m\u001b[0m\u001b[1;33m\u001b[0m\u001b[0m\n\u001b[0m\u001b[0;32m      4\u001b[0m \u001b[0mim\u001b[0m \u001b[1;33m=\u001b[0m \u001b[0mImage\u001b[0m\u001b[1;33m.\u001b[0m\u001b[0mopen\u001b[0m\u001b[1;33m(\u001b[0m\u001b[0mfp\u001b[0m\u001b[1;33m)\u001b[0m\u001b[1;33m\u001b[0m\u001b[1;33m\u001b[0m\u001b[0m\n",
      "\u001b[1;32m~\\miniconda3\\envs\\noman\\lib\\site-packages\\PIL\\TarIO.py\u001b[0m in \u001b[0;36m__init__\u001b[1;34m(self, tarfile, file)\u001b[0m\n\u001b[0;32m     30\u001b[0m         \u001b[1;33m:\u001b[0m\u001b[0mparam\u001b[0m \u001b[0mfile\u001b[0m\u001b[1;33m:\u001b[0m \u001b[0mName\u001b[0m \u001b[0mof\u001b[0m \u001b[0mmember\u001b[0m \u001b[0mfile\u001b[0m\u001b[1;33m.\u001b[0m\u001b[1;33m\u001b[0m\u001b[1;33m\u001b[0m\u001b[0m\n\u001b[0;32m     31\u001b[0m         \"\"\"\n\u001b[1;32m---> 32\u001b[1;33m         \u001b[0mself\u001b[0m\u001b[1;33m.\u001b[0m\u001b[0mfh\u001b[0m \u001b[1;33m=\u001b[0m \u001b[0mopen\u001b[0m\u001b[1;33m(\u001b[0m\u001b[0mtarfile\u001b[0m\u001b[1;33m,\u001b[0m \u001b[1;34m\"rb\"\u001b[0m\u001b[1;33m)\u001b[0m\u001b[1;33m\u001b[0m\u001b[1;33m\u001b[0m\u001b[0m\n\u001b[0m\u001b[0;32m     33\u001b[0m \u001b[1;33m\u001b[0m\u001b[0m\n\u001b[0;32m     34\u001b[0m         \u001b[1;32mwhile\u001b[0m \u001b[1;32mTrue\u001b[0m\u001b[1;33m:\u001b[0m\u001b[1;33m\u001b[0m\u001b[1;33m\u001b[0m\u001b[0m\n",
      "\u001b[1;31mFileNotFoundError\u001b[0m: [Errno 2] No such file or directory: 'Imaging.tar'"
     ]
    }
   ],
   "source": [
    "from PIL import TarIO\n",
    "\n",
    "fp = TarIO.TarIO(\"Imaging.tar\", \"lena.png\")\n",
    "im = Image.open(fp)"
   ]
  },
  {
   "cell_type": "markdown",
   "metadata": {},
   "source": [
    "## Controlling the decoder"
   ]
  },
  {
   "cell_type": "markdown",
   "metadata": {},
   "source": [
    "## Reading in draft mode"
   ]
  },
  {
   "cell_type": "code",
   "execution_count": 8,
   "metadata": {},
   "outputs": [
    {
     "name": "stdout",
     "output_type": "stream",
     "text": [
      "original = RGB (512, 512)\n",
      "draft = RGB (512, 512)\n"
     ]
    }
   ],
   "source": [
    "from __future__ import print_function\n",
    "from PIL import Image\n",
    "\n",
    "im = Image.open('lena.png')\n",
    "print(\"original =\", im.mode, im.size)\n",
    "\n",
    "im.draft(\"L\", (100, 100))\n",
    "print(\"draft =\", im.mode, im.size)\n"
   ]
  },
  {
   "cell_type": "code",
   "execution_count": null,
   "metadata": {},
   "outputs": [],
   "source": []
  }
 ],
 "metadata": {
  "kernelspec": {
   "display_name": "Python 3",
   "language": "python",
   "name": "python3"
  },
  "language_info": {
   "codemirror_mode": {
    "name": "ipython",
    "version": 3
   },
   "file_extension": ".py",
   "mimetype": "text/x-python",
   "name": "python",
   "nbconvert_exporter": "python",
   "pygments_lexer": "ipython3",
   "version": "3.8.5"
  }
 },
 "nbformat": 4,
 "nbformat_minor": 4
}
