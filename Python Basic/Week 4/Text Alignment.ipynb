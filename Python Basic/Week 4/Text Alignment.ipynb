{
 "cells": [
  {
   "cell_type": "raw",
   "metadata": {},
   "source": [
    "### In Python, a string of text can be aligned left, right and center.\n",
    "\n",
    ".ljust(width)\n",
    "### This method returns a left aligned string of length width.\n",
    ">>> width = 20\n",
    ">>> print 'HackerRank'.ljust(width,'-')\n",
    "HackerRank----------  \n",
    "\n",
    ".center(width)\n",
    "### This method returns a centered string of length width.\n",
    ">>> width = 20\n",
    ">>> print 'HackerRank'.center(width,'-')\n",
    "-----HackerRank-----\n",
    "\n",
    ".rjust(width)\n",
    "### This method returns a right aligned string of length width.\n",
    ">>> width = 20\n",
    ">>> print 'HackerRank'.rjust(width,'-')\n",
    "----------HackerRank"
   ]
  },
  {
   "cell_type": "code",
   "execution_count": 19,
   "metadata": {},
   "outputs": [
    {
     "name": "stdin",
     "output_type": "stream",
     "text": [
      " 5\n"
     ]
    },
    {
     "name": "stdout",
     "output_type": "stream",
     "text": [
      "    H    \n",
      "   HHH   \n",
      "  HHHHH  \n",
      " HHHHHHH \n",
      "HHHHHHHHH\n",
      "  HHHHH               HHHHH             \n",
      "  HHHHH               HHHHH             \n",
      "  HHHHH               HHHHH             \n",
      "  HHHHH               HHHHH             \n",
      "  HHHHH               HHHHH             \n",
      "  HHHHH               HHHHH             \n",
      "  HHHHHHHHHHHHHHHHHHHHHHHHH   \n",
      "  HHHHHHHHHHHHHHHHHHHHHHHHH   \n",
      "  HHHHHHHHHHHHHHHHHHHHHHHHH   \n",
      "  HHHHH               HHHHH             \n",
      "  HHHHH               HHHHH             \n",
      "  HHHHH               HHHHH             \n",
      "  HHHHH               HHHHH             \n",
      "  HHHHH               HHHHH             \n",
      "  HHHHH               HHHHH             \n",
      "                    HHHHHHHHH \n",
      "                     HHHHHHH  \n",
      "                      HHHHH   \n",
      "                       HHH    \n",
      "                        H     \n"
     ]
    }
   ],
   "source": [
    "#Replace all ______ with rjust, ljust or center. \n",
    "\n",
    "thickness = int(input()) #This must be an odd number\n",
    "c = 'H'\n",
    "\n",
    "#Top Cone\n",
    "for i in range(thickness):\n",
    "    print((c*i).rjust(thickness-1)+c+(c*i).ljust(thickness-1))\n",
    "\n",
    "#Top Pillars\n",
    "for i in range(thickness+1):\n",
    "    print((c*thickness).center(thickness*2)+(c*thickness).center(thickness*6))\n",
    "\n",
    "#Middle Belt\n",
    "for i in range((thickness+1)//2):\n",
    "    print((c*thickness*5).center(thickness*6))    \n",
    "\n",
    "#Bottom Pillars\n",
    "for i in range(thickness+1):\n",
    "    print((c*thickness).center(thickness*2)+(c*thickness).center(thickness*6))    \n",
    "\n",
    "#Bottom Cone\n",
    "for i in range(thickness):\n",
    "    print(((c*(thickness-i-1)).rjust(thickness)+c+(c*(thickness-i-1)).ljust(thickness)).rjust(thickness*6))"
   ]
  },
  {
   "cell_type": "markdown",
   "metadata": {},
   "source": [
    "# Personal Understanding"
   ]
  },
  {
   "cell_type": "code",
   "execution_count": 29,
   "metadata": {},
   "outputs": [
    {
     "name": "stdin",
     "output_type": "stream",
     "text": [
      " 5\n"
     ]
    },
    {
     "name": "stdout",
     "output_type": "stream",
     "text": [
      "\n",
      "H\n",
      "HH\n",
      "HHH\n",
      "HHHH\n",
      "    \n",
      "   H\n",
      "  HH\n",
      " HHH\n",
      "HHHH\n",
      "    H\n",
      "   HH\n",
      "  HHH\n",
      " HHHH\n",
      "HHHHH\n",
      "    \n",
      "H   \n",
      "HH  \n",
      "HHH \n",
      "HHHH\n",
      "    H    \n",
      "   HHH   \n",
      "  HHHHH  \n",
      " HHHHHHH \n",
      "HHHHHHHHH\n"
     ]
    }
   ],
   "source": [
    "thickness = int(input()) #This must be an odd number\n",
    "c = 'H'\n",
    "\n",
    "#Top Cone\n",
    "for i in range(thickness):\n",
    "    print(c*i)\n",
    "    #print((c*i).rjust(thickness-1)+c+(c*i).ljust(thickness-1))\n",
    "    \n",
    "for i in range(thickness):\n",
    "    print((c*i).rjust(thickness-1))\n",
    "    #print((c*i).rjust(thickness-1)+c+(c*i).ljust(thickness-1))\n",
    "\n",
    "for i in range(thickness):\n",
    "    print((c*i).rjust(thickness-1)+c)\n",
    "    #print((c*i).rjust(thickness-1)+c+(c*i).ljust(thickness-1))\n",
    "    \n",
    "for i in range(thickness):\n",
    "    print((c*i).ljust(thickness-1))\n",
    "    #print((c*i).rjust(thickness-1)+c+(c*i).ljust(thickness-1))\n",
    "    \n",
    "for i in range(thickness):\n",
    "    print((c*i).rjust(thickness-1)+c+(c*i).ljust(thickness-1))"
   ]
  },
  {
   "cell_type": "code",
   "execution_count": 37,
   "metadata": {},
   "outputs": [
    {
     "name": "stdin",
     "output_type": "stream",
     "text": [
      " 5\n"
     ]
    },
    {
     "name": "stdout",
     "output_type": "stream",
     "text": [
      "HHHHH\n",
      "HHHHH\n",
      "HHHHH\n",
      "HHHHH\n",
      "HHHHH\n",
      "HHHHH\n",
      "  HHHHH   \n",
      "  HHHHH   \n",
      "  HHHHH   \n",
      "  HHHHH   \n",
      "  HHHHH   \n",
      "  HHHHH   \n",
      "            HHHHH             \n",
      "            HHHHH             \n",
      "            HHHHH             \n",
      "            HHHHH             \n",
      "            HHHHH             \n",
      "            HHHHH             \n",
      "  HHHHH               HHHHH             \n",
      "  HHHHH               HHHHH             \n",
      "  HHHHH               HHHHH             \n",
      "  HHHHH               HHHHH             \n",
      "  HHHHH               HHHHH             \n",
      "  HHHHH               HHHHH             \n",
      "  HHHHHHHHHHHHHHHHHHHHHHHHH   \n",
      "  HHHHHHHHHHHHHHHHHHHHHHHHH   \n",
      "  HHHHHHHHHHHHHHHHHHHHHHHHH   \n"
     ]
    }
   ],
   "source": [
    "thickness = int(input()) #This must be an odd number\n",
    "c = 'H'\n",
    "#Top Pillars\n",
    "for i in range(thickness+1):\n",
    "    #print((c*thickness).center(thickness*2)+(c*thickness).center(thickness*6))\n",
    "    print(c*thickness)\n",
    "    \n",
    "for i in range(thickness+1):\n",
    "    #print((c*thickness).center(thickness*2)+(c*thickness).center(thickness*6))\n",
    "    print((c*thickness).center(thickness*2))\n",
    "    \n",
    "for i in range(thickness+1):\n",
    "    #print((c*thickness).center(thickness*2)+(c*thickness).center(thickness*6))\n",
    "    print((c*thickness).center(thickness*6))\n",
    "    \n",
    "for i in range(thickness+1):\n",
    "    print((c*thickness).center(thickness*2)+(c*thickness).center(thickness*6))\n",
    "    \n",
    "#Middle Belt\n",
    "for i in range((thickness+1)//2):\n",
    "    print((c*thickness*5).center(thickness*6))    "
   ]
  },
  {
   "cell_type": "code",
   "execution_count": 39,
   "metadata": {},
   "outputs": [
    {
     "name": "stdin",
     "output_type": "stream",
     "text": [
      " 5\n"
     ]
    },
    {
     "name": "stdout",
     "output_type": "stream",
     "text": [
      "HHHH\n",
      "HHH\n",
      "HH\n",
      "H\n",
      "\n",
      " HHHH\n",
      "  HHH\n",
      "   HH\n",
      "    H\n",
      "     \n",
      " HHHHH\n",
      "  HHHH\n",
      "   HHH\n",
      "    HH\n",
      "     H\n",
      "HHHH \n",
      "HHH  \n",
      "HH   \n",
      "H    \n",
      "     \n",
      "                         HHHH \n",
      "                         HHH  \n",
      "                         HH   \n",
      "                         H    \n",
      "                              \n",
      "                    HHHHHHHHH \n",
      "                     HHHHHHH  \n",
      "                      HHHHH   \n",
      "                       HHH    \n",
      "                        H     \n"
     ]
    }
   ],
   "source": [
    "thickness = int(input()) #This must be an odd number\n",
    "c = 'H'\n",
    "\n",
    "#Bottom Cone\n",
    "for i in range(thickness):\n",
    "    print(((c*(thickness-i-1))))\n",
    "    \n",
    "for i in range(thickness):\n",
    "    print(((c*(thickness-i-1)).rjust(thickness)))\n",
    "    \n",
    "for i in range(thickness):\n",
    "    print(((c*(thickness-i-1)).rjust(thickness)+c))\n",
    "    \n",
    "for i in range(thickness):\n",
    "    print(((c*(thickness-i-1)).ljust(thickness)))\n",
    "    \n",
    "for i in range(thickness):\n",
    "    print(((c*(thickness-i-1)).ljust(thickness)).rjust(thickness*6))\n",
    "    \n",
    "for i in range(thickness):\n",
    "    print(((c*(thickness-i-1)).rjust(thickness)+c+(c*(thickness-i-1)).ljust(thickness)).rjust(thickness*6))\n"
   ]
  },
  {
   "cell_type": "code",
   "execution_count": null,
   "metadata": {},
   "outputs": [],
   "source": []
  }
 ],
 "metadata": {
  "kernelspec": {
   "display_name": "Python 3",
   "language": "python",
   "name": "python3"
  },
  "language_info": {
   "codemirror_mode": {
    "name": "ipython",
    "version": 3
   },
   "file_extension": ".py",
   "mimetype": "text/x-python",
   "name": "python",
   "nbconvert_exporter": "python",
   "pygments_lexer": "ipython3",
   "version": "3.7.4"
  }
 },
 "nbformat": 4,
 "nbformat_minor": 4
}
