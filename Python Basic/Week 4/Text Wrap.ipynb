{
 "cells": [
  {
   "cell_type": "code",
   "execution_count": 7,
   "metadata": {},
   "outputs": [
    {
     "name": "stdin",
     "output_type": "stream",
     "text": [
      " sdfsjdflsdjfklsdjfklsdj\n",
      " 4\n"
     ]
    },
    {
     "name": "stdout",
     "output_type": "stream",
     "text": [
      "sdfs\n",
      "jdfl\n",
      "sdjf\n",
      "klsd\n",
      "jfkl\n",
      "sdj\n"
     ]
    }
   ],
   "source": [
    "import textwrap\n",
    "\n",
    "def wrap(string, max_width):\n",
    "    p = textwrap.wrap(string, max_width)\n",
    "    st = \"\"\n",
    "    for i in p:\n",
    "        st = st + i + \"\\n\"\n",
    "        pass\n",
    "    st = st.rstrip()\n",
    "    return st\n",
    "\n",
    "if __name__ == '__main__':\n",
    "    string, max_width = input(), int(input())\n",
    "    result = wrap(string, max_width)\n",
    "    print(result)"
   ]
  },
  {
   "cell_type": "raw",
   "metadata": {},
   "source": [
    "textwrap.dedent(text)\n",
    "Remove any common leading whitespace from every line in text."
   ]
  },
  {
   "cell_type": "raw",
   "metadata": {},
   "source": [
    "textwrap.wrap(text, width=70, **kwargs)\n",
    "Wraps the single paragraph in text (a string) so every line is at most width characters long. \n",
    "Returns a list of output lines, without final newlines."
   ]
  },
  {
   "cell_type": "raw",
   "metadata": {},
   "source": [
    "textwrap.fill(text, width=70, **kwargs)\n",
    "Wraps the single paragraph in text, and returns a single string containing the wrapped paragraph."
   ]
  },
  {
   "cell_type": "code",
   "execution_count": null,
   "metadata": {},
   "outputs": [],
   "source": []
  }
 ],
 "metadata": {
  "kernelspec": {
   "display_name": "Python 3",
   "language": "python",
   "name": "python3"
  },
  "language_info": {
   "codemirror_mode": {
    "name": "ipython",
    "version": 3
   },
   "file_extension": ".py",
   "mimetype": "text/x-python",
   "name": "python",
   "nbconvert_exporter": "python",
   "pygments_lexer": "ipython3",
   "version": "3.7.4"
  }
 },
 "nbformat": 4,
 "nbformat_minor": 4
}
