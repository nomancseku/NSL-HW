{
 "cells": [
  {
   "cell_type": "markdown",
   "metadata": {},
   "source": [
    "# Concept\n",
    "\n",
    "Some string processing examples, such as these, might be useful.\n",
    "There are a couple of new concepts:\n",
    "In Python, the length of a string is found by the function len(s), where s is the string.\n",
    "To traverse through the length of a string, use a for loop:"
   ]
  },
  {
   "cell_type": "raw",
   "metadata": {},
   "source": [
    "for i in range(0, len(s)):\n",
    "print (s[i])"
   ]
  },
  {
   "cell_type": "raw",
   "metadata": {},
   "source": [
    "A range function is used to loop over some length:\n",
    "\n",
    "range (0, 5)\n",
    "Here, the range loops over  0 to 4.5  is excluded."
   ]
  },
  {
   "cell_type": "code",
   "execution_count": 3,
   "metadata": {},
   "outputs": [
    {
     "name": "stdin",
     "output_type": "stream",
     "text": [
      " ABCDCDC\n",
      " CDC\n"
     ]
    },
    {
     "name": "stdout",
     "output_type": "stream",
     "text": [
      "2\n"
     ]
    }
   ],
   "source": [
    "def count_substring(string, sub_string):\n",
    "    l = len(sub_string)\n",
    "    #print(l)\n",
    "    c = 0\n",
    "    for i in range(0, (len(string)-l+1)):\n",
    "        #print(string[i:i+l])\n",
    "        if string[i:i+l] == sub_string:\n",
    "            c = c + 1\n",
    "            pass\n",
    "        pass\n",
    "    \n",
    "    return c\n",
    "\n",
    "if __name__ == '__main__':\n",
    "    string = input().strip()\n",
    "    sub_string = input().strip()\n",
    "    \n",
    "    count = count_substring(string, sub_string)\n",
    "    print(count)"
   ]
  },
  {
   "cell_type": "code",
   "execution_count": null,
   "metadata": {},
   "outputs": [],
   "source": []
  }
 ],
 "metadata": {
  "kernelspec": {
   "display_name": "Python 3",
   "language": "python",
   "name": "python3"
  },
  "language_info": {
   "codemirror_mode": {
    "name": "ipython",
    "version": 3
   },
   "file_extension": ".py",
   "mimetype": "text/x-python",
   "name": "python",
   "nbconvert_exporter": "python",
   "pygments_lexer": "ipython3",
   "version": "3.7.4"
  }
 },
 "nbformat": 4,
 "nbformat_minor": 4
}
