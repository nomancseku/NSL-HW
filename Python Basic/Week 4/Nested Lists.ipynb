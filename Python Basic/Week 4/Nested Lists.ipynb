{
 "cells": [
  {
   "cell_type": "code",
   "execution_count": 4,
   "metadata": {},
   "outputs": [
    {
     "name": "stdin",
     "output_type": "stream",
     "text": [
      " 2\n",
      " aaaaaaa\n",
      " 23\n",
      " bbbbbb\n",
      " 34\n"
     ]
    },
    {
     "name": "stdout",
     "output_type": "stream",
     "text": [
      "bbbbbb\n",
      "bbbbbb\n"
     ]
    }
   ],
   "source": [
    "if __name__ == '__main__':\n",
    "    l = list()\n",
    "    n = list()\n",
    "    nam = list()\n",
    "    for _ in range(int(input())):\n",
    "        name = input()\n",
    "        score = float(input())\n",
    "        l.append([name, score])\n",
    "    #print(l)\n",
    "    # extracting numbers\n",
    "    for i in l:\n",
    "        n.append(i[1])\n",
    "        pass\n",
    "    # sorting number\n",
    "    n = sorted(n)\n",
    "    # storing the smallest value\n",
    "    check = n[0]\n",
    "    # storing the second smallest value in num\n",
    "    for i in n:\n",
    "        if check != i:\n",
    "            num = i\n",
    "            break\n",
    "            pass\n",
    "        pass\n",
    "    #print(num)\n",
    "    # checking with num and stored their corresponding name in a list\n",
    "    for i in l:\n",
    "        if i[1] == num:\n",
    "            #print(i[0])\n",
    "            nam.append(str(i[0]))\n",
    "            pass\n",
    "        pass\n",
    "    # sorting names according to alphabetic order\n",
    "    nam = sorted(nam)\n",
    "    # printing the names\n",
    "    for i in nam:\n",
    "        print(i)\n",
    "    "
   ]
  },
  {
   "cell_type": "code",
   "execution_count": null,
   "metadata": {},
   "outputs": [],
   "source": []
  }
 ],
 "metadata": {
  "kernelspec": {
   "display_name": "Python 3",
   "language": "python",
   "name": "python3"
  },
  "language_info": {
   "codemirror_mode": {
    "name": "ipython",
    "version": 3
   },
   "file_extension": ".py",
   "mimetype": "text/x-python",
   "name": "python",
   "nbconvert_exporter": "python",
   "pygments_lexer": "ipython3",
   "version": "3.7.4"
  }
 },
 "nbformat": 4,
 "nbformat_minor": 4
}
