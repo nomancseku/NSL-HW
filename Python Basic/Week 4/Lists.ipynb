{
 "cells": [
  {
   "cell_type": "code",
   "execution_count": 1,
   "metadata": {},
   "outputs": [
    {
     "name": "stdin",
     "output_type": "stream",
     "text": [
      " 3\n",
      " insert 0 20\n",
      " print\n"
     ]
    },
    {
     "name": "stdout",
     "output_type": "stream",
     "text": [
      "[20]\n"
     ]
    },
    {
     "name": "stdin",
     "output_type": "stream",
     "text": [
      " pop\n"
     ]
    }
   ],
   "source": [
    "if __name__ == '__main__':\n",
    "    N = int(input())\n",
    "    arr = list()\n",
    "    for i in range(N):\n",
    "        cmd = input()\n",
    "        cmd = cmd.split()\n",
    "        if len(cmd) > 1:\n",
    "            if cmd[0] == \"insert\":\n",
    "                pos = int(cmd[1])\n",
    "                val = int(cmd[2])\n",
    "                arr.insert(pos, val)\n",
    "\n",
    "            elif cmd[0] == \"remove\":\n",
    "                val = int(cmd[1])\n",
    "                arr.remove(val)\n",
    "            \n",
    "            elif cmd[0] == \"append\":\n",
    "                val = int(cmd[1])\n",
    "                arr.append(val)\n",
    "        \n",
    "        else:\n",
    "            if cmd[0] == \"print\":\n",
    "                print(arr)\n",
    "\n",
    "            elif cmd[0] == \"sort\":\n",
    "                arr = sorted(arr)\n",
    "                \n",
    "            elif cmd[0] == \"pop\":\n",
    "                length = len(arr)\n",
    "                arr.pop(length-1)\n",
    "                \n",
    "            elif cmd[0] == \"reverse\":\n",
    "                length = len(arr)\n",
    "                arr2 = list()\n",
    "                for i in reversed(range(length)):\n",
    "                    arr2.append(arr[i])\n",
    "                    pass\n",
    "                arr = arr2\n",
    "                pass\n",
    "            \n"
   ]
  },
  {
   "cell_type": "code",
   "execution_count": null,
   "metadata": {},
   "outputs": [],
   "source": []
  }
 ],
 "metadata": {
  "kernelspec": {
   "display_name": "Python 3",
   "language": "python",
   "name": "python3"
  },
  "language_info": {
   "codemirror_mode": {
    "name": "ipython",
    "version": 3
   },
   "file_extension": ".py",
   "mimetype": "text/x-python",
   "name": "python",
   "nbconvert_exporter": "python",
   "pygments_lexer": "ipython3",
   "version": "3.7.4"
  }
 },
 "nbformat": 4,
 "nbformat_minor": 4
}
