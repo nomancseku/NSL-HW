{
 "cells": [
  {
   "cell_type": "markdown",
   "metadata": {},
   "source": [
    "# collections.Counter()"
   ]
  },
  {
   "cell_type": "code",
   "execution_count": null,
   "metadata": {},
   "outputs": [],
   "source": [
    "from collections import Counter\n",
    "myList = [1,1,2,3,4,5,3,2,3,4,2,1,2,3]\n",
    "print(Counter(myList))\n",
    "print(Counter(myList).items())\n",
    "print(Counter(myList).keys())\n",
    "print(Counter(myList).values())"
   ]
  },
  {
   "cell_type": "code",
   "execution_count": 5,
   "metadata": {},
   "outputs": [
    {
     "name": "stdin",
     "output_type": "stream",
     "text": [
      " 10\n",
      " 2 3 4 5 6 8 7 6 5 18\n",
      " 1\n",
      " 6 100\n"
     ]
    },
    {
     "name": "stdout",
     "output_type": "stream",
     "text": [
      "100\n"
     ]
    }
   ],
   "source": [
    "from collections import Counter\n",
    "list = []\n",
    "X = int(input())\n",
    "p = map(int, input().split())\n",
    "N = []\n",
    "for i in p:\n",
    "    N.append(i)\n",
    "Dic = Counter(N).items()\n",
    "new_dic = {}\n",
    "for i,j in Dic:\n",
    "    new_dic[i] = j\n",
    "    \n",
    "customer = int(input())\n",
    "earning = 0\n",
    "for i in range(customer):\n",
    "    p = map(int, input().split())\n",
    "    N = []\n",
    "    for j in p:\n",
    "        N.append(j)\n",
    "    size = N[0]\n",
    "    price = N[1]\n",
    "    if size in new_dic:\n",
    "        val = new_dic[size]\n",
    "        if val>0:\n",
    "            earning = earning + price\n",
    "            val = val - 1\n",
    "            new_dic[size] = val\n",
    "        pass\n",
    "    pass\n",
    "print(earning)"
   ]
  },
  {
   "cell_type": "markdown",
   "metadata": {},
   "source": [
    "# collections.OrderedDict"
   ]
  },
  {
   "cell_type": "code",
   "execution_count": 8,
   "metadata": {},
   "outputs": [
    {
     "name": "stdin",
     "output_type": "stream",
     "text": [
      " 1\n",
      " no 23\n"
     ]
    },
    {
     "name": "stdout",
     "output_type": "stream",
     "text": [
      "23 no\n",
      "no 23\n"
     ]
    }
   ],
   "source": [
    "from collections import OrderedDict\n",
    "d = OrderedDict()\n",
    "n = int(input())\n",
    "for i in range(n):\n",
    "    p = input().split()\n",
    "    price = int(p[-1])\n",
    "    name = \" \".join(p[:-1])\n",
    "    #print(price, name)\n",
    "    if d.get(name):\n",
    "        d[name] = d[name] + price\n",
    "    else:\n",
    "        d[name] = price\n",
    "        \n",
    "for key, val in d.items():\n",
    "    print(key, val)"
   ]
  }
 ],
 "metadata": {
  "kernelspec": {
   "display_name": "Python 3",
   "language": "python",
   "name": "python3"
  },
  "language_info": {
   "codemirror_mode": {
    "name": "ipython",
    "version": 3
   },
   "file_extension": ".py",
   "mimetype": "text/x-python",
   "name": "python",
   "nbconvert_exporter": "python",
   "pygments_lexer": "ipython3",
   "version": "3.7.4"
  }
 },
 "nbformat": 4,
 "nbformat_minor": 4
}
