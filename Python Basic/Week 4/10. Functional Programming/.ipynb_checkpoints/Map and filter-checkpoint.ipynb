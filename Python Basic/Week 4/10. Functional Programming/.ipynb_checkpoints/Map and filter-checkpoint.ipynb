{
 "cells": [
  {
   "cell_type": "markdown",
   "metadata": {},
   "source": [
    "# Map and filter, both are built in function"
   ]
  },
  {
   "cell_type": "raw",
   "metadata": {},
   "source": [
    "map ফাংশনটি এর আর্গুমেন্ট হিসেবে একটি ফাংশন এবং একটি iterable নেয়। \n",
    "পাঠানো ফাংশনটি বস্তুত সেই iterable এর প্রত্যেকটি এলিমেন্টের উপর প্রয়োগ হয়। \n",
    "শেষে পরিবর্তিত iterable টিকে রিটার্ন করে।"
   ]
  },
  {
   "cell_type": "code",
   "execution_count": 3,
   "metadata": {},
   "outputs": [
    {
     "name": "stdout",
     "output_type": "stream",
     "text": [
      "[1, 4, 9, 16]\n"
     ]
    }
   ],
   "source": [
    "def make_sq(x):\n",
    "    return x*x\n",
    "\n",
    "test = map(make_sq, [1,2,3,4])\n",
    "print(list(test))"
   ]
  },
  {
   "cell_type": "raw",
   "metadata": {},
   "source": [
    "filter ফাংশনের নাম শুনেই বোঝা যাচ্ছে এটা কোন কিছু ফিল্টার করে আলাদা করে। \n",
    "এই ফাংশন তার কাছে দেয়া কোন iterable থেকে কিছু এলিমেন্ট রিমুভ করে একটা প্রেডিকেট এর উপর ভিত্তি করে (প্রেডিকেট হচ্ছে ফাংশন যেটা বুলিয়ান ভ্যালু রিটার্ন করে)। \n",
    "ম্যাপের মত, ফিল্টারও দুটো আর্গুমেন্ট নেয় - একটা ফাংশন এবং একটা iterable (লিস্ট)।\n",
    "ফিল্টার সেই সমস্থ এলিমেন্ট কেই রিমুভ করে যার জন্য এর কাছে পাঠানো ফাংশনের রিটার্ন তথা প্রেডিকেট মিথ্যা হয়।"
   ]
  },
  {
   "cell_type": "code",
   "execution_count": 6,
   "metadata": {},
   "outputs": [
    {
     "name": "stdout",
     "output_type": "stream",
     "text": [
      "<filter object at 0x0000026851F0A188>\n",
      "[2, 4, 6, 8, 10]\n"
     ]
    }
   ],
   "source": [
    "def is_even(x):\n",
    "    return x%2 == 0\n",
    "\n",
    "output = filter(is_even, [1,2,3,4,5,6,7,8,10])\n",
    "print(output)\n",
    "print(list(output))"
   ]
  },
  {
   "cell_type": "markdown",
   "metadata": {},
   "source": [
    "উপরের দুটি ক্ষেত্রেই আমরা দেখতে পাচ্ছি যে ম্যাপ বা ফিল্টারের কাছে \n",
    "পাঠানো প্রথম আর্গুমেন্ট যা কিনা একটা ফাংশন, সেটাকে কোথাও \n",
    "ডিফাইন/স্টোর করার প্রয়োজন পরছে না।"
   ]
  },
  {
   "cell_type": "markdown",
   "metadata": {},
   "source": [
    "ফিল্টারের প্রোগ্রামটা আবার করছি একটা ল্যম্বডা পাঠিয়ে -"
   ]
  },
  {
   "cell_type": "code",
   "execution_count": 5,
   "metadata": {},
   "outputs": [
    {
     "name": "stdout",
     "output_type": "stream",
     "text": [
      "[2, 4, 6, 8, 10]\n"
     ]
    }
   ],
   "source": [
    "print(list(filter(lambda x: x % 2 == 0, [1,2,3,4,5,6,7,8,9,10])))"
   ]
  },
  {
   "cell_type": "code",
   "execution_count": null,
   "metadata": {},
   "outputs": [],
   "source": []
  }
 ],
 "metadata": {
  "kernelspec": {
   "display_name": "Python 3",
   "language": "python",
   "name": "python3"
  },
  "language_info": {
   "codemirror_mode": {
    "name": "ipython",
    "version": 3
   },
   "file_extension": ".py",
   "mimetype": "text/x-python",
   "name": "python",
   "nbconvert_exporter": "python",
   "pygments_lexer": "ipython3",
   "version": "3.7.4"
  }
 },
 "nbformat": 4,
 "nbformat_minor": 4
}
