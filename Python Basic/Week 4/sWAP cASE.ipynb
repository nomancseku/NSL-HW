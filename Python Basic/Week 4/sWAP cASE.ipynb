{
 "cells": [
  {
   "cell_type": "markdown",
   "metadata": {},
   "source": [
    "You are given a string and your task is to swap cases. In other words, convert all lowercase letters to uppercase letters and vice versa.\n",
    "\n",
    "For Example:\n",
    "\n",
    "Www.HackerRank.com → wWW.hACKERrANK.COM\n",
    "Pythonist 2 → pYTHONIST 2"
   ]
  },
  {
   "cell_type": "code",
   "execution_count": 7,
   "metadata": {},
   "outputs": [
    {
     "name": "stdin",
     "output_type": "stream",
     "text": [
      " Noman\n"
     ]
    },
    {
     "name": "stdout",
     "output_type": "stream",
     "text": [
      "nOMAN\n"
     ]
    }
   ],
   "source": [
    "def swap_case(s):\n",
    "    string = \"\"\n",
    "    for i in s:\n",
    "        if i.isupper():\n",
    "            string = string + (i.lower())\n",
    "            pass\n",
    "        else:\n",
    "            string = string + (i.upper())\n",
    "        pass\n",
    "    return string\n",
    "\n",
    "if __name__ == '__main__':\n",
    "    s = input()\n",
    "    result = swap_case(s)\n",
    "    print(result)"
   ]
  },
  {
   "cell_type": "code",
   "execution_count": null,
   "metadata": {},
   "outputs": [],
   "source": []
  }
 ],
 "metadata": {
  "kernelspec": {
   "display_name": "Python 3",
   "language": "python",
   "name": "python3"
  },
  "language_info": {
   "codemirror_mode": {
    "name": "ipython",
    "version": 3
   },
   "file_extension": ".py",
   "mimetype": "text/x-python",
   "name": "python",
   "nbconvert_exporter": "python",
   "pygments_lexer": "ipython3",
   "version": "3.7.4"
  }
 },
 "nbformat": 4,
 "nbformat_minor": 4
}
