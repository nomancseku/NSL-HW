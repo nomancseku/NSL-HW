{
 "cells": [
  {
   "cell_type": "code",
   "execution_count": 1,
   "id": "7971115d-4b15-43b1-89b2-774afeb5dddf",
   "metadata": {},
   "outputs": [
    {
     "name": "stdout",
     "output_type": "stream",
     "text": [
      "['Tom', 'Yang', 'Gates', 'Robert']\n"
     ]
    }
   ],
   "source": [
    "# Python’s build-in sorted method, which is a higher order function, has a key parameter receiving\n",
    "# a function which defines how to compare the elements.\n",
    "\n",
    "# let’s sort a list including names by their length:\n",
    "\n",
    "names = ['Yang', 'Robert', 'Tom', 'Gates']\n",
    "names = sorted(names, key = len)\n",
    "print(names)"
   ]
  },
  {
   "cell_type": "markdown",
   "id": "969cd716-c2ec-41f4-9af0-cdd7dd9b8108",
   "metadata": {},
   "source": [
    "Note: There are two ways for using sort function, we should understand the differences and use them properly:<br>\n",
    "#1. Using the sorted directly and it will return a new sorted list.<br>\n",
    "```names = sorted(names, key=len)```<br>\n",
    "#2. Call sort() function by the sequence. This will sort it in place and nothing will be returned.<br>\n",
    "```names.sort(key=len)```<br>"
   ]
  },
  {
   "cell_type": "code",
   "execution_count": null,
   "id": "8db24c1a-4d80-44f4-af1e-4d0baf85c34a",
   "metadata": {},
   "outputs": [],
   "source": []
  }
 ],
 "metadata": {
  "kernelspec": {
   "display_name": "Python 3.8 (XPython)",
   "language": "python",
   "name": "xpython"
  },
  "language_info": {
   "file_extension": ".py",
   "mimetype": "text/x-python",
   "name": "python",
   "version": "3.8.8"
  }
 },
 "nbformat": 4,
 "nbformat_minor": 5
}
