{
 "cells": [
  {
   "cell_type": "code",
   "execution_count": 2,
   "id": "25e8208a-5182-4729-bca7-f3024c04737e",
   "metadata": {},
   "outputs": [
    {
     "name": "stdout",
     "output_type": "stream",
     "text": [
      "['Yang', 'Mask', 'Lisa']\n"
     ]
    }
   ],
   "source": [
    "# let’s delete the names longer than four letters in previous example:\n",
    "\n",
    "names = ['yAnG', 'MASk', 'thoMas', 'LISA']\n",
    "names = map(str.capitalize, names)\n",
    "names = filter(lambda x: len(x) <= 4, names)\n",
    "print(list(names))"
   ]
  },
  {
   "cell_type": "code",
   "execution_count": null,
   "id": "e02ffd71-6dcc-46c0-a20b-c89f23d5ef50",
   "metadata": {},
   "outputs": [],
   "source": []
  }
 ],
 "metadata": {
  "kernelspec": {
   "display_name": "Python 3.8 (XPython)",
   "language": "python",
   "name": "xpython"
  },
  "language_info": {
   "file_extension": ".py",
   "mimetype": "text/x-python",
   "name": "python",
   "version": "3.8.8"
  }
 },
 "nbformat": 4,
 "nbformat_minor": 5
}
