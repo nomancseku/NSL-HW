{
 "cells": [
  {
   "cell_type": "code",
   "execution_count": 2,
   "id": "62552260-7593-4ec5-ba0c-9cbc2fd3971c",
   "metadata": {},
   "outputs": [
    {
     "name": "stdout",
     "output_type": "stream",
     "text": [
      "[1, 4, 9, 16, 25]\n"
     ]
    }
   ],
   "source": [
    "# For example, if we need to calculate the square of each number in a list, we can use map()\n",
    "\n",
    "def f(x):\n",
    "    return x * x\n",
    "\n",
    "r = map(f, [1,2,3,4,5])\n",
    "\n",
    "print(list(r))"
   ]
  },
  {
   "cell_type": "code",
   "execution_count": 3,
   "id": "cf8b9b6b-fe4a-47a3-bbd9-b3d735267843",
   "metadata": {},
   "outputs": [
    {
     "name": "stdout",
     "output_type": "stream",
     "text": [
      "[1, 4, 9, 16, 25]\n"
     ]
    }
   ],
   "source": [
    "r = map(lambda x : x*x, [1,2,3,4,5])\n",
    "print(list(r))"
   ]
  },
  {
   "cell_type": "code",
   "execution_count": 6,
   "id": "7ad8312c-d672-41c6-88f8-28263373f49d",
   "metadata": {},
   "outputs": [
    {
     "name": "stdout",
     "output_type": "stream",
     "text": [
      "['Elon', 'Musk', 'Thomas', 'Lisa']\n"
     ]
    }
   ],
   "source": [
    "# Use the map() function to change the non-standard English name to the canonical names\n",
    "names = ['ELon', 'MUSk', 'thoMas', 'LISA']\n",
    "names = map(str.capitalize, names)\n",
    "\n",
    "print(list(names))"
   ]
  },
  {
   "cell_type": "code",
   "execution_count": null,
   "id": "fb0f9821-f68e-47ca-88ee-3be0e906e908",
   "metadata": {},
   "outputs": [],
   "source": []
  }
 ],
 "metadata": {
  "kernelspec": {
   "display_name": "Python 3.8 (XPython)",
   "language": "python",
   "name": "xpython"
  },
  "language_info": {
   "file_extension": ".py",
   "mimetype": "text/x-python",
   "name": "python",
   "version": "3.8.8"
  }
 },
 "nbformat": 4,
 "nbformat_minor": 5
}
