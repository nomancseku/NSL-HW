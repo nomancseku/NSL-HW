{
 "cells": [
  {
   "cell_type": "code",
   "execution_count": 3,
   "id": "e9b9c8bb-8c21-4adc-8971-f585d88efa8d",
   "metadata": {},
   "outputs": [
    {
     "name": "stdout",
     "output_type": "stream",
     "text": [
      "London2020\n"
     ]
    }
   ],
   "source": [
    "# Theory reduce(f, [x1, x2, x3, x4]) = f(f(f(x1, x2), x3), x4)\n",
    "\n",
    "# For example, if we want to convert a list ['L','o','n','d','o','n',2,0,2,0] to a string \"London2020” , using reduce is a good idea.\n",
    "\n",
    "from functools import reduce\n",
    "city = ['L', 'o', 'n', 'd', 'o', 'n', 2, 0, 2, 0]\n",
    "city_to_str = reduce(lambda x, y: str(x) + str(y), city)\n",
    "print(city_to_str)"
   ]
  },
  {
   "cell_type": "code",
   "execution_count": null,
   "id": "fb25fbcf-a460-431e-b9fc-f79dc14fdf53",
   "metadata": {},
   "outputs": [],
   "source": []
  }
 ],
 "metadata": {
  "kernelspec": {
   "display_name": "Python 3.8 (XPython)",
   "language": "python",
   "name": "xpython"
  },
  "language_info": {
   "file_extension": ".py",
   "mimetype": "text/x-python",
   "name": "python",
   "version": "3.8.8"
  }
 },
 "nbformat": 4,
 "nbformat_minor": 5
}
