{
 "cells": [
  {
   "cell_type": "markdown",
   "id": "ad80f07a-4b2b-49b3-95a6-1ba95534d32a",
   "metadata": {},
   "source": [
    "A function returning another function is also called <b>higher order function</b>. <br>\n",
    "Another formal name of it is <b>Closure</b>.<br> \n",
    "    Let’s look at an example:"
   ]
  },
  {
   "cell_type": "code",
   "execution_count": 4,
   "id": "b7532ccd-0215-4fba-841f-f15e0a192f42",
   "metadata": {},
   "outputs": [
    {
     "name": "stdout",
     "output_type": "stream",
     "text": [
      "<function lazy_sum.<locals>.sum at 0x00000245B455FA60>\n"
     ]
    }
   ],
   "source": [
    "def lazy_sum(numbers: list):\n",
    "    def sum():\n",
    "        s = 0\n",
    "        for n in numbers:\n",
    "            s += n\n",
    "        return s\n",
    "\n",
    "    return sum\n",
    "\n",
    "func = lazy_sum([1, 2, 3, 4, 5])\n",
    "print(func)"
   ]
  },
  {
   "cell_type": "markdown",
   "id": "c2267842-4d85-4148-b17d-95e7df7ecd22",
   "metadata": {},
   "source": [
    "As the above example shown, instead of returning the summed result, we can return the sum function.<br> It is a lazy evaluation method which gives us more flexity. We can calculate the result whenever we need it:"
   ]
  },
  {
   "cell_type": "code",
   "execution_count": 5,
   "id": "12660f32-df9e-49b4-8253-2aa233f8fed7",
   "metadata": {},
   "outputs": [
    {
     "name": "stdout",
     "output_type": "stream",
     "text": [
      "15\n"
     ]
    }
   ],
   "source": [
    "print(func())"
   ]
  },
  {
   "cell_type": "markdown",
   "id": "32e0167f-3032-48e6-99f7-f90aa599947b",
   "metadata": {},
   "source": [
    "Note: The ```func``` is only a reference (name) of a function, we need to call ```func()``` to make the function run. In this example, ```func``` saves the ```sum``` function which was returned by ```lazy_sum``` function. When we call ```func()``` , it calculate and return the final summation result."
   ]
  },
  {
   "cell_type": "markdown",
   "id": "f0eb446b-6bf7-4c5b-b23e-63dec7b5d726",
   "metadata": {},
   "source": [
    "After understanding the closure, it’s easy to understand decorators in Python."
   ]
  },
  {
   "cell_type": "code",
   "execution_count": null,
   "id": "c6ed284f-67a4-4481-ba19-ba574d6680c8",
   "metadata": {},
   "outputs": [],
   "source": []
  }
 ],
 "metadata": {
  "kernelspec": {
   "display_name": "Python 3.8 (XPython)",
   "language": "python",
   "name": "xpython"
  },
  "language_info": {
   "file_extension": ".py",
   "mimetype": "text/x-python",
   "name": "python",
   "version": "3.8.8"
  }
 },
 "nbformat": 4,
 "nbformat_minor": 5
}
