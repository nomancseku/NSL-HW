{
 "cells": [
  {
   "cell_type": "code",
   "execution_count": 6,
   "metadata": {},
   "outputs": [
    {
     "name": "stdout",
     "output_type": "stream",
     "text": [
      "Match 1\n",
      "Match 2\n"
     ]
    }
   ],
   "source": [
    "# dot meta character\n",
    "\n",
    "import re\n",
    "\n",
    "pattern = r\"gr.y\" # r before string denotes raw string\n",
    "\n",
    "if re.match(pattern, \"grey\"):\n",
    "   print(\"Match 1\")\n",
    "\n",
    "if re.match(pattern, \"gray\"):\n",
    "   print(\"Match 2\")\n",
    "\n",
    "if re.match(pattern, \"blue\"):\n",
    "   print(\"Match 3\")"
   ]
  },
  {
   "cell_type": "code",
   "execution_count": 12,
   "metadata": {},
   "outputs": [
    {
     "name": "stdout",
     "output_type": "stream",
     "text": [
      "Match 1\n",
      "Match 2\n"
     ]
    }
   ],
   "source": [
    "# ^ and $ meta character\n",
    "\n",
    "import re\n",
    "\n",
    "pattern = r\"^wr.te$\"\n",
    "\n",
    "if re.match(pattern, \"write\"):\n",
    "   print(\"Match 1\")\n",
    "\n",
    "if re.match(pattern, \"wrote\"):\n",
    "   print(\"Match 2\")   \n",
    "\n",
    "if re.match(pattern, \"writer\"):\n",
    "   print(\"Match 3\")\n",
    "\n",
    "if re.match(pattern, \"wrieeite\"):\n",
    "   print(\"Match 4\")"
   ]
  },
  {
   "cell_type": "code",
   "execution_count": null,
   "metadata": {},
   "outputs": [],
   "source": []
  }
 ],
 "metadata": {
  "kernelspec": {
   "display_name": "Python 3",
   "language": "python",
   "name": "python3"
  },
  "language_info": {
   "codemirror_mode": {
    "name": "ipython",
    "version": 3
   },
   "file_extension": ".py",
   "mimetype": "text/x-python",
   "name": "python",
   "nbconvert_exporter": "python",
   "pygments_lexer": "ipython3",
   "version": "3.8.5"
  }
 },
 "nbformat": 4,
 "nbformat_minor": 4
}
