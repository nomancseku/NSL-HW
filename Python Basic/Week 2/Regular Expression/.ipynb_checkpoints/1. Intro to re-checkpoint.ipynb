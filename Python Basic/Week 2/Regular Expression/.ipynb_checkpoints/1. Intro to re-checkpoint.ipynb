{
 "cells": [
  {
   "cell_type": "markdown",
   "metadata": {},
   "source": [
    "##### re.match()"
   ]
  },
  {
   "cell_type": "code",
   "execution_count": 5,
   "metadata": {},
   "outputs": [
    {
     "name": "stdout",
     "output_type": "stream",
     "text": [
      "Match Found!\n"
     ]
    }
   ],
   "source": [
    "\"\"\"\n",
    "match only checks starting of strings\n",
    "\"\"\"\n",
    "import re\n",
    "pattern = r\"Bangla\"\n",
    "result = re.match(pattern, \"Bangladesh\")\n",
    "if result:\n",
    "    print(\"Match Found!\")\n",
    "else:\n",
    "    print(\"No match\")"
   ]
  },
  {
   "cell_type": "markdown",
   "metadata": {},
   "source": [
    "##### re.search(), re.findall()"
   ]
  },
  {
   "cell_type": "code",
   "execution_count": 3,
   "metadata": {},
   "outputs": [
    {
     "name": "stdout",
     "output_type": "stream",
     "text": [
      "Match Found!\n",
      "['bangla', 'bangla']\n"
     ]
    }
   ],
   "source": [
    "\"\"\"\n",
    "search can find a pattern in anywhere in text file\n",
    "\"\"\"\n",
    "\n",
    "import re\n",
    "pattern = r\"Bangladesh\"\n",
    "\n",
    "if re.search(pattern, \"There is country named Bangladesh in south asia!\"):\n",
    "    print(\"Match Found!\")\n",
    "else:\n",
    "    print(\"No match\")\n",
    "\n",
    "pattern = r\"bangla\"    \n",
    "print(re.findall(pattern, \"Bangladeshi bangla and indian bangla are differnet.\"))"
   ]
  },
  {
   "cell_type": "markdown",
   "metadata": {},
   "source": [
    "##### methods of return object"
   ]
  },
  {
   "cell_type": "code",
   "execution_count": 6,
   "metadata": {},
   "outputs": [
    {
     "name": "stdout",
     "output_type": "stream",
     "text": [
      "bin\n",
      "3\n",
      "6\n",
      "(3, 6)\n"
     ]
    }
   ],
   "source": [
    "import re\n",
    "\n",
    "pattern = r\"bin\"\n",
    "\n",
    "match = re.search(pattern, \"combination\")\n",
    "if match:\n",
    "    print(match.group())\n",
    "    print(match.start())\n",
    "    print(match.end())\n",
    "    print(match.span())"
   ]
  },
  {
   "cell_type": "code",
   "execution_count": null,
   "metadata": {},
   "outputs": [],
   "source": []
  }
 ],
 "metadata": {
  "kernelspec": {
   "display_name": "Python 3",
   "language": "python",
   "name": "python3"
  },
  "language_info": {
   "codemirror_mode": {
    "name": "ipython",
    "version": 3
   },
   "file_extension": ".py",
   "mimetype": "text/x-python",
   "name": "python",
   "nbconvert_exporter": "python",
   "pygments_lexer": "ipython3",
   "version": "3.8.5"
  }
 },
 "nbformat": 4,
 "nbformat_minor": 4
}
