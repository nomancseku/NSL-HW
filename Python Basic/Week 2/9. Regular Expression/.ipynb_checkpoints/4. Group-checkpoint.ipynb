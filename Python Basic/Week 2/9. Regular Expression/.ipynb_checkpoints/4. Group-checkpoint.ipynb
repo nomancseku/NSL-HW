{
 "cells": [
  {
   "cell_type": "code",
   "execution_count": 1,
   "metadata": {},
   "outputs": [
    {
     "name": "stdout",
     "output_type": "stream",
     "text": [
      "Match 1\n",
      "Match 2\n"
     ]
    }
   ],
   "source": [
    "import re\n",
    "\n",
    "pattern = r\"egg(spam)*\"\n",
    "\n",
    "if re.match(pattern, \"egg\"):\n",
    "    print(\"Match 1\")\n",
    "\n",
    "if re.match(pattern, \"eggspamspamspamegg\"):\n",
    "    print(\"Match 2\")\n",
    "\n",
    "if re.match(pattern, \"spam\"):\n",
    "    print(\"Match 3\")"
   ]
  },
  {
   "cell_type": "code",
   "execution_count": 10,
   "metadata": {},
   "outputs": [
    {
     "name": "stdout",
     "output_type": "stream",
     "text": [
      "abcdefghi\n",
      "abcdefghi\n",
      "bc\n",
      "de\n",
      "fgh\n",
      "g\n",
      "('bc', 'de', 'fgh', 'g')\n",
      "<class 'builtin_function_or_method'>\n",
      "<class 'tuple'>\n"
     ]
    }
   ],
   "source": [
    "# we can access matched content by group function as follows\n",
    "import re\n",
    "\n",
    "pattern = r\"a(bc)(de)(f(g)h)i\"\n",
    "\n",
    "match = re.match(pattern, \"abcdefghijklmnop\")\n",
    "if match:\n",
    "    print(match.group())\n",
    "    print(match.group(0)) ## takes the total raw string as a single group\n",
    "    print(match.group(1))\n",
    "    print(match.group(2))\n",
    "    print(match.group(3))\n",
    "    print(match.group(4))\n",
    "    #print(match.group(5)) ## IndexError: no such group\n",
    "    \n",
    "    print(match.groups())\n",
    "    print(type(match.groups))\n",
    "    \n",
    "    t = match.groups()\n",
    "    print(type(t))"
   ]
  },
  {
   "cell_type": "raw",
   "metadata": {},
   "source": [
    "Speacial group \n",
    "two types of speacial group\n",
    "1. Named group           --- (?P<name>...)\n",
    "2. non capturing group   --- (?: ...)"
   ]
  },
  {
   "cell_type": "code",
   "execution_count": 12,
   "metadata": {},
   "outputs": [
    {
     "name": "stdout",
     "output_type": "stream",
     "text": [
      "abc\n",
      "('abc', 'ghi')\n"
     ]
    }
   ],
   "source": [
    "import re\n",
    "\n",
    "pattern = r\"(?P<first>abc)(?:def)(ghi)\"\n",
    "\n",
    "match = re.match(pattern, \"abcdefghi\")\n",
    "if match:\n",
    "    print(match.group(\"first\"))\n",
    "    print(match.groups())"
   ]
  },
  {
   "cell_type": "code",
   "execution_count": 14,
   "metadata": {},
   "outputs": [
    {
     "name": "stdout",
     "output_type": "stream",
     "text": [
      "Gray is fine!\n",
      "Grey is OK also!\n"
     ]
    }
   ],
   "source": [
    "# | 'or' metacharacter\n",
    "import re\n",
    "\n",
    "pattern = r\"gr(a|e)y\"\n",
    "\n",
    "match = re.match(pattern, \"gray\")\n",
    "if match:\n",
    "    print (\"Gray is fine!\")\n",
    "\n",
    "match = re.match(pattern, \"grey\")\n",
    "if match:\n",
    "    print (\"Grey is OK also!\")    \n",
    "\n",
    "match = re.match(pattern, \"griy\")\n",
    "if match:\n",
    "    print (\"No way, what Griy is?!!\")"
   ]
  },
  {
   "cell_type": "code",
   "execution_count": null,
   "metadata": {},
   "outputs": [],
   "source": []
  }
 ],
 "metadata": {
  "kernelspec": {
   "display_name": "Python 3",
   "language": "python",
   "name": "python3"
  },
  "language_info": {
   "codemirror_mode": {
    "name": "ipython",
    "version": 3
   },
   "file_extension": ".py",
   "mimetype": "text/x-python",
   "name": "python",
   "nbconvert_exporter": "python",
   "pygments_lexer": "ipython3",
   "version": "3.8.5"
  }
 },
 "nbformat": 4,
 "nbformat_minor": 4
}
