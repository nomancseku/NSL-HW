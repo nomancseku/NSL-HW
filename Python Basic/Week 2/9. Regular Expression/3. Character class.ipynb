{
 "cells": [
  {
   "cell_type": "code",
   "execution_count": 1,
   "metadata": {},
   "outputs": [
    {
     "name": "stdout",
     "output_type": "stream",
     "text": [
      "The word 'grey' got at least one vowel!\n",
      "The word 'qwertyuiop' got at least one vowel!\n",
      "No vowel found!\n"
     ]
    }
   ],
   "source": [
    "import re\n",
    "\n",
    "# A character set containing all vowels\n",
    "pattern = r\"[aeiou]\"\n",
    "\n",
    "# Lets check whether a word got a vowel in it or not\n",
    "if re.search(pattern, \"grey\"):\n",
    "   print(\"The word 'grey' got at least one vowel!\")\n",
    "else:\n",
    "   print(\"No vowel found!\")    \n",
    "\n",
    "if re.search(pattern, \"qwertyuiop\"):\n",
    "   print(\"The word 'qwertyuiop' got at least one vowel!\")\n",
    "else:\n",
    "   print(\"No vowel found!\")\n",
    "\n",
    "if re.search(pattern, \"rhythm myths\"):\n",
    "   print(\"The word 'rhythm myths' got at least one vowel!\")\n",
    "else:\n",
    "   print(\"No vowel found!\")"
   ]
  },
  {
   "cell_type": "code",
   "execution_count": 3,
   "metadata": {},
   "outputs": [
    {
     "name": "stdout",
     "output_type": "stream",
     "text": [
      "OK\n",
      "OK\n",
      "Not OK!\n",
      "OK\n"
     ]
    }
   ],
   "source": [
    "import re\n",
    "\n",
    "pattern = r\"[A-Z][A-Z][0-9]\"\n",
    "\n",
    "if re.search(pattern, \"NS1 is prefix of first name server address.\"):\n",
    "   # Found NS1 as match\n",
    "   print(\"OK\")\n",
    "\n",
    "if re.search(pattern, \"You should put a second one with NS2 as prefix.\"):\n",
    "   # Found NS2 as match\n",
    "   print(\"OK\")\n",
    "\n",
    "if re.search(pattern, \"I don\\'t have any nameserver.\"):\n",
    "   print(\"NS3\")\n",
    "else:\n",
    "   print(\"Not OK!\")\n",
    "\n",
    "if re.search(pattern, \"PY3K\"):\n",
    "   # Found PY3 as match\n",
    "   print(\"OK\")"
   ]
  },
  {
   "cell_type": "code",
   "execution_count": 4,
   "metadata": {},
   "outputs": [],
   "source": [
    "# ^ works as an opposite way"
   ]
  },
  {
   "cell_type": "code",
   "execution_count": 7,
   "metadata": {},
   "outputs": [
    {
     "name": "stdout",
     "output_type": "stream",
     "text": [
      "Match 1\n",
      "Match 2\n",
      "Match 4\n"
     ]
    }
   ],
   "source": [
    "import re\n",
    "\n",
    "# Match string that contains NOT ALL Capital letters\n",
    "pattern = r\"[^A-Z]\"\n",
    "\n",
    "if re.search(pattern, \"a sentence with all lower case letters.\"):\n",
    "   print(\"Match 1\")\n",
    "\n",
    "if re.search(pattern, \"A sentence with mixed English letters.\"):\n",
    "   print(\"Match 2\")\n",
    "\n",
    "if re.search(pattern, \"HEADING\"):\n",
    "   # All Capital letters\n",
    "   # No Match\n",
    "   print(\"Match 3\")\n",
    "\n",
    "if re.search(pattern, \"HEADING WITH ALL CAPITAL LETTERS\"):\n",
    "   # All Capital letters \n",
    "   # but \"spaces\" makes it True to NOT ALL Capital\n",
    "   print(\"Match 4\")"
   ]
  },
  {
   "cell_type": "code",
   "execution_count": null,
   "metadata": {},
   "outputs": [],
   "source": []
  }
 ],
 "metadata": {
  "kernelspec": {
   "display_name": "Python 3",
   "language": "python",
   "name": "python3"
  },
  "language_info": {
   "codemirror_mode": {
    "name": "ipython",
    "version": 3
   },
   "file_extension": ".py",
   "mimetype": "text/x-python",
   "name": "python",
   "nbconvert_exporter": "python",
   "pygments_lexer": "ipython3",
   "version": "3.8.5"
  }
 },
 "nbformat": 4,
 "nbformat_minor": 4
}
